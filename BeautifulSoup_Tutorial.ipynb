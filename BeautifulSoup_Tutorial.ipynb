{
  "nbformat": 4,
  "nbformat_minor": 0,
  "metadata": {
    "colab": {
      "provenance": [],
      "authorship_tag": "ABX9TyPlxatKGk9c6E9JaKbwdQzk"
    },
    "kernelspec": {
      "name": "python3",
      "display_name": "Python 3"
    },
    "language_info": {
      "name": "python"
    }
  },
  "cells": [
    {
      "cell_type": "code",
      "source": [
        "!pip install BeautifulSoup4"
      ],
      "metadata": {
        "colab": {
          "base_uri": "https://localhost:8080/"
        },
        "id": "Rd9Ye7aN9hj2",
        "outputId": "40fefa78-bb60-4fb1-d3d6-e4755aa31826"
      },
      "execution_count": null,
      "outputs": [
        {
          "output_type": "stream",
          "name": "stdout",
          "text": [
            "Requirement already satisfied: BeautifulSoup4 in /usr/local/lib/python3.10/dist-packages (4.12.3)\n",
            "Requirement already satisfied: soupsieve>1.2 in /usr/local/lib/python3.10/dist-packages (from BeautifulSoup4) (2.5)\n"
          ]
        }
      ]
    },
    {
      "cell_type": "code",
      "execution_count": null,
      "metadata": {
        "id": "z9zcwdZR7VkI"
      },
      "outputs": [],
      "source": [
        "from bs4 import BeautifulSoup\n",
        "import requests"
      ]
    },
    {
      "cell_type": "code",
      "source": [
        "with open(\"index.html\") as fp:\n",
        "    soup=BeautifulSoup(fp)\n",
        "    print(soup)\n",
        "\n"
      ],
      "metadata": {
        "colab": {
          "base_uri": "https://localhost:8080/"
        },
        "id": "dlZnYcLA7cSr",
        "outputId": "634d621f-b61c-4390-e123-dbbed5e1125d"
      },
      "execution_count": null,
      "outputs": [
        {
          "output_type": "stream",
          "name": "stdout",
          "text": [
            "<html><body><p>\"Welcomee to BeautifulSoup\"</p></body></html>\n"
          ]
        }
      ]
    },
    {
      "cell_type": "code",
      "source": [
        "!pwd\n"
      ],
      "metadata": {
        "colab": {
          "base_uri": "https://localhost:8080/"
        },
        "id": "mLM2Ngzt8NLU",
        "outputId": "e534ffa2-0c73-40ab-b30d-eaeb7c96c958"
      },
      "execution_count": null,
      "outputs": [
        {
          "output_type": "stream",
          "name": "stdout",
          "text": [
            "/content\n"
          ]
        }
      ]
    },
    {
      "cell_type": "code",
      "source": [],
      "metadata": {
        "id": "kQwNCTB776WX"
      },
      "execution_count": null,
      "outputs": []
    },
    {
      "cell_type": "markdown",
      "source": [
        "# **Kind of objects**\n",
        "\n",
        "## Beautiful Soup transforms a complex HTML document into a complex tree of Python objects\n",
        "\n",
        "**We have to deal with about four kinds of objects: Tag, NavigableString, BeautifulSoup, and Comment."
      ],
      "metadata": {
        "id": "GeQAu583-Z99"
      }
    },
    {
      "cell_type": "code",
      "source": [
        "#tag\n",
        "#To access the tag\n",
        "\n",
        "soup=BeautifulSoup('<html><b > Hello World </b></html>')\n",
        "tag=soup.b\n",
        "tag\n",
        "type(tag)\n",
        "tag.name\n",
        "\n",
        "tag.name=\"italic\"\n",
        "tag\n",
        "print(tag)"
      ],
      "metadata": {
        "colab": {
          "base_uri": "https://localhost:8080/"
        },
        "id": "yGFT_GAO--wX",
        "outputId": "300cbd37-1bb6-4f77-bce0-b867b1e6c357"
      },
      "execution_count": null,
      "outputs": [
        {
          "output_type": "stream",
          "name": "stdout",
          "text": [
            "<italic> Hello World </italic>\n"
          ]
        }
      ]
    },
    {
      "cell_type": "code",
      "source": [
        "#attrs\n",
        "# To access the attribute\n",
        "\n",
        "soup=BeautifulSoup('<html><b id=bold> Hello World </b><i style=italic>italic test</i></html>')\n",
        "tag=soup.b\n",
        "print(tag.attrs)\n",
        "print(soup.i.attrs)"
      ],
      "metadata": {
        "colab": {
          "base_uri": "https://localhost:8080/"
        },
        "id": "shGH2s1F_4Du",
        "outputId": "140124e8-5275-48e7-b819-7d445b1062ae"
      },
      "execution_count": null,
      "outputs": [
        {
          "output_type": "stream",
          "name": "stdout",
          "text": [
            "{'id': 'bold'}\n",
            "{'style': 'italic'}\n"
          ]
        }
      ]
    },
    {
      "cell_type": "code",
      "source": [
        "#Remove , add tag attributes\n",
        "\n",
        "soup=BeautifulSoup('<html><b id=Hello World></b></html>')\n",
        "tag=soup.b\n",
        "\n",
        "tag['b']='italic'\n",
        "tag['Hello']='welcome'\n",
        "\n",
        "print(tag)\n",
        "\n",
        "del tag['b']\n",
        "print(tag.get('b'))\n",
        "print(tag.get('Hello World'))"
      ],
      "metadata": {
        "colab": {
          "base_uri": "https://localhost:8080/"
        },
        "id": "pZxNoyaO_jg9",
        "outputId": "32ccfb9d-6ad9-4b0a-fbe8-4f50f5cb2bca"
      },
      "execution_count": null,
      "outputs": [
        {
          "output_type": "stream",
          "name": "stdout",
          "text": [
            "<b Hello=\"welcome\" b=\"italic\" id=\"Hello\" world=\"\"></b>\n",
            "None\n",
            "None\n"
          ]
        }
      ]
    },
    {
      "cell_type": "code",
      "source": [
        "# @title\n",
        "#Multi Valued Attributes\n",
        "\n",
        "soup=BeautifulSoup('<p class=\"css  font-family\"></p>')\n",
        "\n",
        "print(soup.p['class'])  #Seperates attributes\n",
        "\n",
        "#2nd example\n",
        "\n",
        "n_soup= BeautifulSoup('<p > One More example <a link=\"index\">home</a></p>')\n",
        "print(n_soup.a['link'])\n",
        "n_soup.a['link']=['index', 'content','']  #Assigning multiple attributes\n",
        "print(n_soup.p)"
      ],
      "metadata": {
        "colab": {
          "base_uri": "https://localhost:8080/"
        },
        "id": "GQvwZMgh_V3-",
        "outputId": "643f42c5-26b5-4313-fbf8-9f6328bbae1e"
      },
      "execution_count": null,
      "outputs": [
        {
          "output_type": "stream",
          "name": "stdout",
          "text": [
            "['css', 'font-family']\n",
            "index\n",
            "<p> One More example <a link=\"index content \">home</a></p>\n"
          ]
        }
      ]
    },
    {
      "cell_type": "code",
      "source": [
        "#multi_valued_attributes=None\n",
        "#to disble assigning multiple attributes\n",
        "\n",
        "no_mlt_soup=BeautifulSoup('<p style=\" One More example\" <a link=\"index\">home</a></p>',multi_valued_attributes=None)\n",
        "print(no_mlt_soup.p['style'])\n",
        "print(no_mlt_soup.p['link'])"
      ],
      "metadata": {
        "colab": {
          "base_uri": "https://localhost:8080/"
        },
        "id": "Pj9FIWQJ_Ou6",
        "outputId": "65a84872-c420-452c-d02a-ee1f3392414f"
      },
      "execution_count": null,
      "outputs": [
        {
          "output_type": "stream",
          "name": "stdout",
          "text": [
            " One More example\n",
            "index\n"
          ]
        }
      ]
    },
    {
      "cell_type": "code",
      "source": [
        "#get_attribute_list\n",
        "# To get attribute list\n",
        "\n",
        "a_soup=BeautifulSoup('<p style=\" One More example\" <a link=\"index\">home</a></p>')\n",
        "print(a_soup.p.get_attribute_list('link'))\n",
        "\n",
        "print(a_soup.p.get_attribute_list('style'))"
      ],
      "metadata": {
        "colab": {
          "base_uri": "https://localhost:8080/"
        },
        "id": "TDbuRPFbti0x",
        "outputId": "21cc23f9-36a5-4814-da73-2d1d35aa6c9b"
      },
      "execution_count": null,
      "outputs": [
        {
          "output_type": "stream",
          "name": "stdout",
          "text": [
            "['index']\n",
            "[' One More example']\n"
          ]
        }
      ]
    },
    {
      "cell_type": "code",
      "source": [],
      "metadata": {
        "id": "gyKUv0ntAPXU"
      },
      "execution_count": null,
      "outputs": []
    },
    {
      "cell_type": "code",
      "source": [
        "#xml parsing\n",
        "xml_soup=BeautifulSoup('<p class=\"xml style\"></p>','xml')\n",
        "print(xml_soup)\n",
        "html_soup=BeautifulSoup('<p class=\"html style\"></p>','html')\n",
        "print(html_soup)"
      ],
      "metadata": {
        "colab": {
          "base_uri": "https://localhost:8080/"
        },
        "id": "4IAhp1V9uzcr",
        "outputId": "8d7911f8-f462-4ea9-98a6-b28ad8f151b8"
      },
      "execution_count": null,
      "outputs": [
        {
          "output_type": "stream",
          "name": "stdout",
          "text": [
            "<?xml version=\"1.0\" encoding=\"utf-8\"?>\n",
            "<p class=\"xml style\"/>\n",
            "<html><body><p class=\"html style\"></p></body></html>\n"
          ]
        }
      ]
    },
    {
      "cell_type": "code",
      "source": [
        "#Configuring multi Values Attributes\n",
        "\n",
        "multi_value={\"*\":\"class\"}\n",
        "\n",
        "x_soup=BeautifulSoup('<p class=\"font style\"></p>','html',multi_valued_attributes=multi_value )\n",
        "print(x_soup.p['class'])"
      ],
      "metadata": {
        "colab": {
          "base_uri": "https://localhost:8080/"
        },
        "id": "uc-PsyY7vzmu",
        "outputId": "00a75ec4-b2f0-440d-98c7-b61758e71cd7"
      },
      "execution_count": null,
      "outputs": [
        {
          "output_type": "stream",
          "name": "stdout",
          "text": [
            "['font', 'style']\n"
          ]
        }
      ]
    },
    {
      "cell_type": "code",
      "source": [
        "#Another way\n",
        "from bs4.builder import builder_registry\n",
        "builder_registry.lookup('html').DEFAULT_CDATA_LIST_ATTRIBUTES"
      ],
      "metadata": {
        "colab": {
          "base_uri": "https://localhost:8080/"
        },
        "id": "XzRg49GOA0pu",
        "outputId": "2ea770cd-b11e-4ed9-ebe1-df3fc93f7785"
      },
      "execution_count": null,
      "outputs": [
        {
          "output_type": "execute_result",
          "data": {
            "text/plain": [
              "{'*': ['class', 'accesskey', 'dropzone'],\n",
              " 'a': ['rel', 'rev'],\n",
              " 'link': ['rel', 'rev'],\n",
              " 'td': ['headers'],\n",
              " 'th': ['headers'],\n",
              " 'form': ['accept-charset'],\n",
              " 'object': ['archive'],\n",
              " 'area': ['rel'],\n",
              " 'icon': ['sizes'],\n",
              " 'iframe': ['sandbox'],\n",
              " 'output': ['for']}"
            ]
          },
          "metadata": {},
          "execution_count": 19
        }
      ]
    },
    {
      "cell_type": "code",
      "source": [
        "#NavigableString\n",
        "#To retreive a bit of string or text with in a  tag\n",
        "\n",
        "tag.string\n",
        "#u\"Extemely Bold'\n",
        "type(tag.string)\n",
        "#<class 'bs4.element.navigablestring'>"
      ],
      "metadata": {
        "colab": {
          "base_uri": "https://localhost:8080/",
          "height": 35
        },
        "id": "5CviUTgZBjEN",
        "outputId": "a24a67c1-4f78-4877-a99d-149cffb3eb36"
      },
      "execution_count": null,
      "outputs": [
        {
          "output_type": "execute_result",
          "data": {
            "text/plain": [
              "'tag.string\\n#u\"Extemely Bold\\'\\ntype(tag.string)\\n#<class \\'bs4.element.navigablestring\\'>'"
            ],
            "application/vnd.google.colaboratory.intrinsic+json": {
              "type": "string"
            }
          },
          "metadata": {},
          "execution_count": 44
        }
      ]
    },
    {
      "cell_type": "code",
      "source": [
        "#Convert NavigableString to unicode string\n",
        "\n",
        "from bs4 import BeautifulSoup\n",
        "\n",
        "soup=BeautifulSoup('<b>Hello World </b>')\n",
        "tag=soup.b\n",
        "unicode_string=unicode(tag.string)\n",
        "unicode_string\n",
        "type(unicode_string)"
      ],
      "metadata": {
        "colab": {
          "base_uri": "https://localhost:8080/",
          "height": 211
        },
        "id": "Wcg8j0RmB9Nh",
        "outputId": "2b302cbe-6498-434f-d0d8-8b79449c9e03"
      },
      "execution_count": null,
      "outputs": [
        {
          "output_type": "error",
          "ename": "NameError",
          "evalue": "name 'unicode' is not defined",
          "traceback": [
            "\u001b[0;31m---------------------------------------------------------------------------\u001b[0m",
            "\u001b[0;31mNameError\u001b[0m                                 Traceback (most recent call last)",
            "\u001b[0;32m<ipython-input-11-32e421c38900>\u001b[0m in \u001b[0;36m<cell line: 7>\u001b[0;34m()\u001b[0m\n\u001b[1;32m      5\u001b[0m \u001b[0msoup\u001b[0m\u001b[0;34m=\u001b[0m\u001b[0mBeautifulSoup\u001b[0m\u001b[0;34m(\u001b[0m\u001b[0;34m'<b>Hello World </b>'\u001b[0m\u001b[0;34m)\u001b[0m\u001b[0;34m\u001b[0m\u001b[0;34m\u001b[0m\u001b[0m\n\u001b[1;32m      6\u001b[0m \u001b[0mtag\u001b[0m\u001b[0;34m=\u001b[0m\u001b[0msoup\u001b[0m\u001b[0;34m.\u001b[0m\u001b[0mb\u001b[0m\u001b[0;34m\u001b[0m\u001b[0;34m\u001b[0m\u001b[0m\n\u001b[0;32m----> 7\u001b[0;31m \u001b[0municode_string\u001b[0m\u001b[0;34m=\u001b[0m\u001b[0municode\u001b[0m\u001b[0;34m(\u001b[0m\u001b[0mtag\u001b[0m\u001b[0;34m.\u001b[0m\u001b[0mstring\u001b[0m\u001b[0;34m)\u001b[0m\u001b[0;34m\u001b[0m\u001b[0;34m\u001b[0m\u001b[0m\n\u001b[0m\u001b[1;32m      8\u001b[0m \u001b[0municode_string\u001b[0m\u001b[0;34m\u001b[0m\u001b[0;34m\u001b[0m\u001b[0m\n\u001b[1;32m      9\u001b[0m \u001b[0mtype\u001b[0m\u001b[0;34m(\u001b[0m\u001b[0municode_string\u001b[0m\u001b[0;34m)\u001b[0m\u001b[0;34m\u001b[0m\u001b[0;34m\u001b[0m\u001b[0m\n",
            "\u001b[0;31mNameError\u001b[0m: name 'unicode' is not defined"
          ]
        }
      ]
    },
    {
      "cell_type": "code",
      "source": [
        "#replace_with()\n",
        "#to replace string\n",
        "tag.string=\"Times New roman Font Style\"\n",
        "print(tag.string)\n",
        "tag.string.replace_with(\"Italic CSS font Style\")\n",
        "print(tag.string)\n",
        "tag.string.replace_with(\"Strike through\")\n",
        "print(tag.string)\n"
      ],
      "metadata": {
        "colab": {
          "base_uri": "https://localhost:8080/"
        },
        "id": "ecocc0S5CsTw",
        "outputId": "42b6912a-22c4-4823-c496-2aee8b0d4865"
      },
      "execution_count": null,
      "outputs": [
        {
          "output_type": "stream",
          "name": "stdout",
          "text": [
            "Times New roman Font Style\n",
            "Italic CSS font Style\n",
            "Strike through\n"
          ]
        }
      ]
    },
    {
      "cell_type": "markdown",
      "source": [
        "### Strings cant contain any data or tags or codes hence cant use .contents() or .string() or .find() methods\n",
        "### NavigableString searching the NavigationTree  but not all.\n",
        "### To use NavigableString outside BeautifulSoup we must use unicode() to convert it into python  unicode string. else it will navigate entire BeautifulSoup Parse tree"
      ],
      "metadata": {
        "id": "Lto4HeJPIvuX"
      }
    },
    {
      "cell_type": "code",
      "source": [
        "#BeautifulSoup\n",
        "\n",
        "#Represents the entire parsed document as a whole object\n",
        "\n",
        "soup=BeautifulSoup(\"<document><content/>Insert the header Value\",\"xml\")\n",
        "header=BeautifulSoup(\"<header>BeautifulSoup Methods explained</header>\",\"xml\")\n",
        "soup.find(string=\"Insert the header Value\").replace_with(\"Head Part\")\n",
        "#or\n",
        "#soup.find(text=\"Insert the header Value\").replace_with(header)\n",
        "print(soup)\n",
        "print(soup.name) #name attribute"
      ],
      "metadata": {
        "colab": {
          "base_uri": "https://localhost:8080/"
        },
        "id": "GO5BQW1_E3p6",
        "outputId": "faedef16-1eaf-4ac8-875e-5165045ed12b"
      },
      "execution_count": null,
      "outputs": [
        {
          "output_type": "stream",
          "name": "stdout",
          "text": [
            "<?xml version=\"1.0\" encoding=\"utf-8\"?>\n",
            "<document><content/>Head Part</document>\n",
            "[document]\n"
          ]
        }
      ]
    },
    {
      "cell_type": "code",
      "source": [
        "#comments\n",
        "\n",
        "message='<b><!--BeautifulSoup latest version is 4.0--></b>'\n",
        "\n",
        "soup=BeautifulSoup(message)\n",
        "comment=soup.string  # or soup.b.string\n",
        "print(comment)\n",
        "print(type(comment))\n",
        "print(soup.prettify())\n",
        "print(soup.b.prettify())"
      ],
      "metadata": {
        "colab": {
          "base_uri": "https://localhost:8080/"
        },
        "id": "ASIzehQhOPWl",
        "outputId": "8661d418-3ae0-40cb-c69e-3e961701927b"
      },
      "execution_count": null,
      "outputs": [
        {
          "output_type": "stream",
          "name": "stdout",
          "text": [
            "BeautifulSoup latest version is 4.0\n",
            "<class 'bs4.element.Comment'>\n",
            "<html>\n",
            " <body>\n",
            "  <b>\n",
            "   <!--BeautifulSoup latest version is 4.0-->\n",
            "  </b>\n",
            " </body>\n",
            "</html>\n",
            "\n",
            "<b>\n",
            " <!--BeautifulSoup latest version is 4.0-->\n",
            "</b>\n",
            "\n"
          ]
        }
      ]
    },
    {
      "cell_type": "markdown",
      "source": [
        "# **Navigating the  Tree**"
      ],
      "metadata": {
        "id": "_ThZ9qGMVfW9"
      }
    },
    {
      "cell_type": "code",
      "source": [
        "html_doc = \"\"\"\n",
        "<html><head><title>The Dormouse's story</title></head>\n",
        "<body>\n",
        "<p class=\"title\"><b>The Dormouse's story</b></p>\n",
        "\n",
        "<p class=\"story\">Once upon a time there were three little sisters; and their names were\n",
        "<a href=\"http://example.com/elsie\" class=\"sister\" id=\"link1\">Elsie</a>,\n",
        "<a href=\"http://example.com/lacie\" class=\"sister\" id=\"link2\">Lacie</a> and\n",
        "<a href=\"http://example.com/tillie\" class=\"sister\" id=\"link3\">Tillie</a>;\n",
        "and they lived at the bottom of a well.</p>\n",
        "\n",
        "<p class=\"story\">...</p>\n",
        "\"\"\"\n",
        "\n",
        "from bs4 import BeautifulSoup\n",
        "soup = BeautifulSoup(html_doc, 'html.parser')\n",
        "#print(soup.prettify())"
      ],
      "metadata": {
        "id": "rY5WMHC6T7Gm"
      },
      "execution_count": null,
      "outputs": []
    },
    {
      "cell_type": "code",
      "source": [
        "#Navigating using tag Names\n",
        "\n",
        "html_doc = \"\"\"\n",
        "<html><head><title>The Dormouse's story</title></head>\n",
        "<body>\n",
        "<p class=\"title\"><b>The Dormouse's story</b></p>\n",
        "\n",
        "<p class=\"story\">Once upon a time there were three little sisters; and their names were\n",
        "<a href=\"http://example.com/elsie\" class=\"sister\" id=\"link1\">Elsie</a>,\n",
        "<a href=\"http://example.com/lacie\" class=\"sister\" id=\"link2\">Lacie</a> and\n",
        "<a href=\"http://example.com/tillie\" class=\"sister\" id=\"link3\">Tillie</a>;\n",
        "and they lived at the bottom of a well.</p>\n",
        "\n",
        "<p class=\"story\">...</p>\n",
        "\"\"\"\n",
        "\n",
        "from bs4 import BeautifulSoup\n",
        "soup = BeautifulSoup(html_doc, 'html.parser')\n",
        "\n",
        "print(soup.head)\n",
        "print(soup.a)\n",
        "print(soup.title)\n"
      ],
      "metadata": {
        "colab": {
          "base_uri": "https://localhost:8080/"
        },
        "id": "3bmhmonuVsmI",
        "outputId": "081f95bd-357b-4f52-cfb6-c7aa52681bd3"
      },
      "execution_count": null,
      "outputs": [
        {
          "output_type": "stream",
          "name": "stdout",
          "text": [
            "<head><title>The Dormouse's story</title></head>\n",
            "<a class=\"sister\" href=\"http://example.com/elsie\" id=\"link1\">Elsie</a>\n",
            "<title>The Dormouse's story</title>\n",
            "None\n"
          ]
        }
      ]
    },
    {
      "cell_type": "code",
      "source": [
        "#find_all('syntax')\n",
        "\n",
        "#from the abive example\n",
        "\n",
        "soup.find_all('a')"
      ],
      "metadata": {
        "colab": {
          "base_uri": "https://localhost:8080/"
        },
        "id": "evQqeCm7QDIr",
        "outputId": "cc5e0aec-e35e-4836-e681-69a8f10bab99"
      },
      "execution_count": null,
      "outputs": [
        {
          "output_type": "execute_result",
          "data": {
            "text/plain": [
              "[<a class=\"sister\" href=\"http://example.com/elsie\" id=\"link1\">Elsie</a>,\n",
              " <a class=\"sister\" href=\"http://example.com/lacie\" id=\"link2\">Lacie</a>,\n",
              " <a class=\"sister\" href=\"http://example.com/tillie\" id=\"link3\">Tillie</a>]"
            ]
          },
          "metadata": {},
          "execution_count": 7
        }
      ]
    },
    {
      "cell_type": "code",
      "source": [
        "#contents\n",
        "\n",
        "#To access the child contents\n",
        "\n",
        "print(soup.contents)\n",
        "head_tag=soup.head\n",
        "title_tag=soup.title\n",
        "print(\"\\n\",head_tag)\n",
        "print(\"\\n\",title_tag)\n",
        "\n",
        "print(\"\\n\",title_tag.contents[0])\n",
        "print(\"\\n\",head_tag.contents[0])\n",
        "\n",
        "a_tag=soup.a\n",
        "a_tag.contents[0]\n",
        "\n"
      ],
      "metadata": {
        "colab": {
          "base_uri": "https://localhost:8080/",
          "height": 348
        },
        "id": "wW6LbP1HQfhI",
        "outputId": "839d0eeb-86f4-4f2c-b1b0-eb3efd7a1d7e"
      },
      "execution_count": null,
      "outputs": [
        {
          "output_type": "stream",
          "name": "stdout",
          "text": [
            "['\\n', <html><head><title>The Dormouse's story</title></head>\n",
            "<body>\n",
            "<p class=\"title\"><b>The Dormouse's story</b></p>\n",
            "<p class=\"story\">Once upon a time there were three little sisters; and their names were\n",
            "<a class=\"sister\" href=\"http://example.com/elsie\" id=\"link1\">Elsie</a>,\n",
            "<a class=\"sister\" href=\"http://example.com/lacie\" id=\"link2\">Lacie</a> and\n",
            "<a class=\"sister\" href=\"http://example.com/tillie\" id=\"link3\">Tillie</a>;\n",
            "and they lived at the bottom of a well.</p>\n",
            "<p class=\"story\">...</p>\n",
            "</body></html>]\n",
            "\n",
            " <head><title>The Dormouse's story</title></head>\n",
            "\n",
            " <title>The Dormouse's story</title>\n",
            "\n",
            " The Dormouse's story\n",
            "\n",
            " <title>The Dormouse's story</title>\n"
          ]
        },
        {
          "output_type": "execute_result",
          "data": {
            "text/plain": [
              "'Elsie'"
            ],
            "application/vnd.google.colaboratory.intrinsic+json": {
              "type": "string"
            }
          },
          "metadata": {},
          "execution_count": 31
        }
      ]
    },
    {
      "cell_type": "code",
      "source": [
        "#name with contents\n",
        "html_doc = \"\"\"\n",
        "<html><head><title>The Dormouse's story</title></head>\n",
        "<body>\n",
        "<p class=\"title\"><b>The Dormouse's story</b></p>\n",
        "\n",
        "<p class=\"story\">Once upon a time there were three little sisters; and their names were\n",
        "<a href=\"http://example.com/elsie\" class=\"sister\" id=\"link1\">Elsie</a>,\n",
        "<a href=\"http://example.com/lacie\" class=\"sister\" id=\"link2\">Lacie</a> and\n",
        "<a href=\"http://example.com/tillie\" class=\"sister\" id=\"link3\">Tillie</a>;\n",
        "and they lived at the bottom of a well.</p>\n",
        "\n",
        "<p class=\"story\">...</p>\n",
        "\"\"\"\n",
        "\n",
        "from bs4 import BeautifulSoup\n",
        "soup = BeautifulSoup(html_doc, 'html.parser')\n",
        "\n",
        "print(len(soup.contents))\n",
        "\n",
        "print(soup.contents[0].name)\n",
        "print(head_tag.contents[0].name)\n",
        "print(soup.contents[1].name)\n",
        "print()\n",
        "print(title_tag.contents[0].name)"
      ],
      "metadata": {
        "colab": {
          "base_uri": "https://localhost:8080/"
        },
        "id": "dl9jM8qQRE_C",
        "outputId": "f2c21a83-2ebd-411a-cc79-251d3c845da2"
      },
      "execution_count": null,
      "outputs": [
        {
          "output_type": "stream",
          "name": "stdout",
          "text": [
            "2\n",
            "None\n",
            "title\n",
            "html\n",
            "\n",
            "None\n"
          ]
        }
      ]
    },
    {
      "cell_type": "code",
      "source": [
        "#children\n",
        "#A string can not contain any children,but to access the string we use this chidren\n",
        "# Child tag access only first row of child only\n",
        "\n",
        "html_doc = \"\"\"\n",
        "<html><head><title>The Dormouse's story</title></head>\n",
        "<body>\n",
        "<p class=\"title\"><b>The Dormouse's story</b></p>\n",
        "\n",
        "<p class=\"story\">Once upon a time there were three little sisters; and their names were\n",
        "<a href=\"http://example.com/elsie\" class=\"sister\" id=\"link1\">Elsie</a>,\n",
        "<a href=\"http://example.com/lacie\" class=\"sister\" id=\"link2\">Lacie</a> and\n",
        "<a href=\"http://example.com/tillie\" class=\"sister\" id=\"link3\">Tillie</a>;\n",
        "and they lived at the bottom of a well.</p>\n",
        "\n",
        "<p class=\"story\">...</p>\n",
        "\"\"\"\n",
        "\n",
        "from bs4 import BeautifulSoup\n",
        "soup = BeautifulSoup(html_doc, 'html.parser')\n",
        "\n",
        "for child in soup.children:\n",
        "    print(child)\n",
        "print()\n",
        "for child in head_tag.children:\n",
        "    print(child)\n",
        "print()\n",
        "for child in title_tag.children:\n",
        "    print(child)\n",
        "print()\n",
        "for child in a_tag.children:\n",
        "    print(child)\n",
        "\n",
        "a_class=soup.body\n",
        "for child in a_class.children:\n",
        "    print(child)"
      ],
      "metadata": {
        "colab": {
          "base_uri": "https://localhost:8080/"
        },
        "id": "v7PtdwcKZ4_T",
        "outputId": "76aafe21-64a0-47be-af80-47e872993c3e"
      },
      "execution_count": null,
      "outputs": [
        {
          "output_type": "stream",
          "name": "stdout",
          "text": [
            "\n",
            "\n",
            "<html><head><title>The Dormouse's story</title></head>\n",
            "<body>\n",
            "<p class=\"title\"><b>The Dormouse's story</b></p>\n",
            "<p class=\"story\">Once upon a time there were three little sisters; and their names were\n",
            "<a class=\"sister\" href=\"http://example.com/elsie\" id=\"link1\">Elsie</a>,\n",
            "<a class=\"sister\" href=\"http://example.com/lacie\" id=\"link2\">Lacie</a> and\n",
            "<a class=\"sister\" href=\"http://example.com/tillie\" id=\"link3\">Tillie</a>;\n",
            "and they lived at the bottom of a well.</p>\n",
            "<p class=\"story\">...</p>\n",
            "</body></html>\n",
            "\n",
            "<title>The Dormouse's story</title>\n",
            "\n",
            "The Dormouse's story\n",
            "\n",
            "Elsie\n",
            "\n",
            "\n",
            "<p class=\"title\"><b>The Dormouse's story</b></p>\n",
            "\n",
            "\n",
            "<p class=\"story\">Once upon a time there were three little sisters; and their names were\n",
            "<a class=\"sister\" href=\"http://example.com/elsie\" id=\"link1\">Elsie</a>,\n",
            "<a class=\"sister\" href=\"http://example.com/lacie\" id=\"link2\">Lacie</a> and\n",
            "<a class=\"sister\" href=\"http://example.com/tillie\" id=\"link3\">Tillie</a>;\n",
            "and they lived at the bottom of a well.</p>\n",
            "\n",
            "\n",
            "<p class=\"story\">...</p>\n",
            "\n",
            "\n"
          ]
        }
      ]
    },
    {
      "cell_type": "code",
      "source": [
        "#descendents\n",
        "#To access the child tags and it child tags as a tree\n",
        "\n",
        "html_doc = \"\"\"\n",
        "<html><head><title>The Dormouse's story</title></head>\n",
        "<body>\n",
        "<p class=\"title\"><b>The Dormouse's story</b></p>\n",
        "\n",
        "<p class=\"story\">Once upon a time there were three little sisters; and their names were\n",
        "<a href=\"http://example.com/elsie\" class=\"sister\" id=\"link1\">Elsie</a>,\n",
        "<a href=\"http://example.com/lacie\" class=\"sister\" id=\"link2\">Lacie</a> and\n",
        "<a href=\"http://example.com/tillie\" class=\"sister\" id=\"link3\">Tillie</a>;\n",
        "and they lived at the bottom of a well.</p>\n",
        "\n",
        "<p class=\"story\">...</p>\n",
        "\"\"\"\n",
        "\n",
        "from bs4 import BeautifulSoup\n",
        "soup = BeautifulSoup(html_doc, 'html.parser')\n",
        "\n",
        "print(len(list(soup.children)))\n",
        "\n",
        "for child in soup.descendants:  #Prints heirarchy tree by child wise\n",
        "    print(child)\n",
        "\n",
        "body=soup.body\n",
        "for child in body.children:\n",
        "    print(child)\n",
        "\n",
        "print(len(list(soup.descendants)))\n",
        "\n",
        "\n",
        "for child in enumerate(soup.descendants):  #index wise descendants\n",
        "    print(child)"
      ],
      "metadata": {
        "colab": {
          "base_uri": "https://localhost:8080/"
        },
        "id": "xyRa7VUubU8w",
        "outputId": "f405281c-8cfb-4396-e2a0-c909f63b990f"
      },
      "execution_count": null,
      "outputs": [
        {
          "output_type": "stream",
          "name": "stdout",
          "text": [
            "2\n",
            "\n",
            "\n",
            "<html><head><title>The Dormouse's story</title></head>\n",
            "<body>\n",
            "<p class=\"title\"><b>The Dormouse's story</b></p>\n",
            "<p class=\"story\">Once upon a time there were three little sisters; and their names were\n",
            "<a class=\"sister\" href=\"http://example.com/elsie\" id=\"link1\">Elsie</a>,\n",
            "<a class=\"sister\" href=\"http://example.com/lacie\" id=\"link2\">Lacie</a> and\n",
            "<a class=\"sister\" href=\"http://example.com/tillie\" id=\"link3\">Tillie</a>;\n",
            "and they lived at the bottom of a well.</p>\n",
            "<p class=\"story\">...</p>\n",
            "</body></html>\n",
            "<head><title>The Dormouse's story</title></head>\n",
            "<title>The Dormouse's story</title>\n",
            "The Dormouse's story\n",
            "\n",
            "\n",
            "<body>\n",
            "<p class=\"title\"><b>The Dormouse's story</b></p>\n",
            "<p class=\"story\">Once upon a time there were three little sisters; and their names were\n",
            "<a class=\"sister\" href=\"http://example.com/elsie\" id=\"link1\">Elsie</a>,\n",
            "<a class=\"sister\" href=\"http://example.com/lacie\" id=\"link2\">Lacie</a> and\n",
            "<a class=\"sister\" href=\"http://example.com/tillie\" id=\"link3\">Tillie</a>;\n",
            "and they lived at the bottom of a well.</p>\n",
            "<p class=\"story\">...</p>\n",
            "</body>\n",
            "\n",
            "\n",
            "<p class=\"title\"><b>The Dormouse's story</b></p>\n",
            "<b>The Dormouse's story</b>\n",
            "The Dormouse's story\n",
            "\n",
            "\n",
            "<p class=\"story\">Once upon a time there were three little sisters; and their names were\n",
            "<a class=\"sister\" href=\"http://example.com/elsie\" id=\"link1\">Elsie</a>,\n",
            "<a class=\"sister\" href=\"http://example.com/lacie\" id=\"link2\">Lacie</a> and\n",
            "<a class=\"sister\" href=\"http://example.com/tillie\" id=\"link3\">Tillie</a>;\n",
            "and they lived at the bottom of a well.</p>\n",
            "Once upon a time there were three little sisters; and their names were\n",
            "\n",
            "<a class=\"sister\" href=\"http://example.com/elsie\" id=\"link1\">Elsie</a>\n",
            "Elsie\n",
            ",\n",
            "\n",
            "<a class=\"sister\" href=\"http://example.com/lacie\" id=\"link2\">Lacie</a>\n",
            "Lacie\n",
            " and\n",
            "\n",
            "<a class=\"sister\" href=\"http://example.com/tillie\" id=\"link3\">Tillie</a>\n",
            "Tillie\n",
            ";\n",
            "and they lived at the bottom of a well.\n",
            "\n",
            "\n",
            "<p class=\"story\">...</p>\n",
            "...\n",
            "\n",
            "\n",
            "\n",
            "\n",
            "<p class=\"title\"><b>The Dormouse's story</b></p>\n",
            "\n",
            "\n",
            "<p class=\"story\">Once upon a time there were three little sisters; and their names were\n",
            "<a class=\"sister\" href=\"http://example.com/elsie\" id=\"link1\">Elsie</a>,\n",
            "<a class=\"sister\" href=\"http://example.com/lacie\" id=\"link2\">Lacie</a> and\n",
            "<a class=\"sister\" href=\"http://example.com/tillie\" id=\"link3\">Tillie</a>;\n",
            "and they lived at the bottom of a well.</p>\n",
            "\n",
            "\n",
            "<p class=\"story\">...</p>\n",
            "\n",
            "\n",
            "27\n",
            "(0, '\\n')\n",
            "(1, <html><head><title>The Dormouse's story</title></head>\n",
            "<body>\n",
            "<p class=\"title\"><b>The Dormouse's story</b></p>\n",
            "<p class=\"story\">Once upon a time there were three little sisters; and their names were\n",
            "<a class=\"sister\" href=\"http://example.com/elsie\" id=\"link1\">Elsie</a>,\n",
            "<a class=\"sister\" href=\"http://example.com/lacie\" id=\"link2\">Lacie</a> and\n",
            "<a class=\"sister\" href=\"http://example.com/tillie\" id=\"link3\">Tillie</a>;\n",
            "and they lived at the bottom of a well.</p>\n",
            "<p class=\"story\">...</p>\n",
            "</body></html>)\n",
            "(2, <head><title>The Dormouse's story</title></head>)\n",
            "(3, <title>The Dormouse's story</title>)\n",
            "(4, \"The Dormouse's story\")\n",
            "(5, '\\n')\n",
            "(6, <body>\n",
            "<p class=\"title\"><b>The Dormouse's story</b></p>\n",
            "<p class=\"story\">Once upon a time there were three little sisters; and their names were\n",
            "<a class=\"sister\" href=\"http://example.com/elsie\" id=\"link1\">Elsie</a>,\n",
            "<a class=\"sister\" href=\"http://example.com/lacie\" id=\"link2\">Lacie</a> and\n",
            "<a class=\"sister\" href=\"http://example.com/tillie\" id=\"link3\">Tillie</a>;\n",
            "and they lived at the bottom of a well.</p>\n",
            "<p class=\"story\">...</p>\n",
            "</body>)\n",
            "(7, '\\n')\n",
            "(8, <p class=\"title\"><b>The Dormouse's story</b></p>)\n",
            "(9, <b>The Dormouse's story</b>)\n",
            "(10, \"The Dormouse's story\")\n",
            "(11, '\\n')\n",
            "(12, <p class=\"story\">Once upon a time there were three little sisters; and their names were\n",
            "<a class=\"sister\" href=\"http://example.com/elsie\" id=\"link1\">Elsie</a>,\n",
            "<a class=\"sister\" href=\"http://example.com/lacie\" id=\"link2\">Lacie</a> and\n",
            "<a class=\"sister\" href=\"http://example.com/tillie\" id=\"link3\">Tillie</a>;\n",
            "and they lived at the bottom of a well.</p>)\n",
            "(13, 'Once upon a time there were three little sisters; and their names were\\n')\n",
            "(14, <a class=\"sister\" href=\"http://example.com/elsie\" id=\"link1\">Elsie</a>)\n",
            "(15, 'Elsie')\n",
            "(16, ',\\n')\n",
            "(17, <a class=\"sister\" href=\"http://example.com/lacie\" id=\"link2\">Lacie</a>)\n",
            "(18, 'Lacie')\n",
            "(19, ' and\\n')\n",
            "(20, <a class=\"sister\" href=\"http://example.com/tillie\" id=\"link3\">Tillie</a>)\n",
            "(21, 'Tillie')\n",
            "(22, ';\\nand they lived at the bottom of a well.')\n",
            "(23, '\\n')\n",
            "(24, <p class=\"story\">...</p>)\n",
            "(25, '...')\n",
            "(26, '\\n')\n"
          ]
        }
      ]
    },
    {
      "cell_type": "code",
      "source": [
        "#string\n",
        "\n",
        "html_doc = \"\"\"\n",
        "<html><head><title>The Dormouse's story</title></head>\n",
        "<body>\n",
        "<p class=\"title\"><b>The Dormouse's story</b></p>\n",
        "\n",
        "<p class=\"story\">Once upon a time there were three little sisters; and their names were\n",
        "<a href=\"http://example.com/elsie\" class=\"sister\" id=\"link1\">Elsie</a>,\n",
        "<a href=\"http://example.com/lacie\" class=\"sister\" id=\"link2\">Lacie</a> and\n",
        "<a href=\"http://example.com/tillie\" class=\"sister\" id=\"link3\">Tillie</a>;\n",
        "and they lived at the bottom of a well.</p>\n",
        "\n",
        "<p class=\"story\">...</p>\n",
        "\"\"\"\n",
        "\n",
        "from bs4 import BeautifulSoup\n",
        "soup = BeautifulSoup(html_doc, 'html.parser')\n",
        "\n",
        "head_tag=soup.head\n",
        "title_tag=soup.title\n",
        "\n",
        "print(soup.string)\n",
        "print(head_tag.string)\n",
        "print(title_tag.string)\n",
        "print(soup.html.string)"
      ],
      "metadata": {
        "colab": {
          "base_uri": "https://localhost:8080/"
        },
        "id": "ia8RRSbMeT0P",
        "outputId": "a61a8c0a-5fc0-4351-9b4e-b617a7c3bac6"
      },
      "execution_count": null,
      "outputs": [
        {
          "output_type": "stream",
          "name": "stdout",
          "text": [
            "None\n",
            "The Dormouse's story\n",
            "The Dormouse's story\n",
            "None\n"
          ]
        }
      ]
    },
    {
      "cell_type": "code",
      "source": [
        "#stripped strings\n",
        "#To remove  exrta white spaces\n",
        "\n",
        "print(\"Before removing white spaces excess::\")\n",
        "for string in soup.strings:\n",
        "    print(string)\n",
        "\n",
        "print(\"\\n\\n\\nAfter removing extra white spaces::\")\n",
        "for string in soup.stripped_strings:\n",
        "    print(string)"
      ],
      "metadata": {
        "colab": {
          "base_uri": "https://localhost:8080/"
        },
        "id": "wQUmeueRg1r4",
        "outputId": "e2566bdf-09ba-4653-ef06-f0a09dcf47b2"
      },
      "execution_count": null,
      "outputs": [
        {
          "output_type": "stream",
          "name": "stdout",
          "text": [
            "Before removing white spaces excess::\n",
            "\n",
            "\n",
            "The Dormouse's story\n",
            "\n",
            "\n",
            "\n",
            "\n",
            "The Dormouse's story\n",
            "\n",
            "\n",
            "Once upon a time there were three little sisters; and their names were\n",
            "\n",
            "Elsie\n",
            ",\n",
            "\n",
            "Lacie\n",
            " and\n",
            "\n",
            "Tillie\n",
            ";\n",
            "and they lived at the bottom of a well.\n",
            "\n",
            "\n",
            "...\n",
            "\n",
            "\n",
            "\n",
            "\n",
            "\n",
            "After removing extra white spaces::\n",
            "The Dormouse's story\n",
            "The Dormouse's story\n",
            "Once upon a time there were three little sisters; and their names were\n",
            "Elsie\n",
            ",\n",
            "Lacie\n",
            "and\n",
            "Tillie\n",
            ";\n",
            "and they lived at the bottom of a well.\n",
            "...\n"
          ]
        }
      ]
    },
    {
      "cell_type": "code",
      "source": [
        "#.parent tag\n",
        "# to get upward data\n",
        "\n",
        "html_doc='''\n",
        "<html><head><title>The Dormouse's story</title></head>\n",
        "<body>\n",
        "<p class=\"title\"><b>The Dormouse's story</b></p>\n",
        "\n",
        "<p class=\"story\">Once upon a time there were three little sisters; and their names were\n",
        "<a href=\"http://example.com/elsie\" class=\"sister\" id=\"link1\">Elsie</a>,\n",
        "<a href=\"http://example.com/lacie\" class=\"sister\" id=\"link2\">Lacie</a> and\n",
        "<a href=\"http://example.com/tillie\" class=\"sister\" id=\"link3\">Tillie</a>;\n",
        "'''\n",
        "from bs4 import BeautifulSoup\n",
        "soup = BeautifulSoup(html_doc, 'html.parser')\n",
        "\n",
        "title_tag=soup.title\n",
        "print(title_tag)\n",
        "print(title_tag.parent)  # prints parent tag of title\n",
        "\n",
        "print()\n",
        "print()\n",
        "p_tag=soup.p\n",
        "print(p_tag)\n",
        "\n",
        "print(\"\\n\\nParent Tag of p::\\n\",p_tag.parent) # parent tag\n",
        "print()\n",
        "print(soup.parent)\n",
        "\n",
        "\n",
        "#  Iteration of all parent tags\n",
        "\n",
        "pr=soup.a\n",
        "\n",
        "for parent in pr.parents:\n",
        "    print(parent.name)  #lists all parent tags\n",
        "\n"
      ],
      "metadata": {
        "colab": {
          "base_uri": "https://localhost:8080/"
        },
        "id": "IigA-2WNkW5l",
        "outputId": "d487a307-6870-4c77-989f-6f6474ce3da6"
      },
      "execution_count": null,
      "outputs": [
        {
          "output_type": "stream",
          "name": "stdout",
          "text": [
            "<title>The Dormouse's story</title>\n",
            "<head><title>The Dormouse's story</title></head>\n",
            "\n",
            "\n",
            "<p class=\"title\"><b>The Dormouse's story</b></p>\n",
            "\n",
            "\n",
            "Parent Tag of p::\n",
            " <body>\n",
            "<p class=\"title\"><b>The Dormouse's story</b></p>\n",
            "<p class=\"story\">Once upon a time there were three little sisters; and their names were\n",
            "<a class=\"sister\" href=\"http://example.com/elsie\" id=\"link1\">Elsie</a>,\n",
            "<a class=\"sister\" href=\"http://example.com/lacie\" id=\"link2\">Lacie</a> and\n",
            "<a class=\"sister\" href=\"http://example.com/tillie\" id=\"link3\">Tillie</a>;\n",
            "</p></body>\n",
            "\n",
            "None\n",
            "p\n",
            "body\n",
            "html\n",
            "[document]\n"
          ]
        }
      ]
    },
    {
      "cell_type": "code",
      "source": [
        "#Going sideways using siblings\n",
        "\n",
        "#.next_sibling\n",
        "#.previous_sibling\n",
        "\n",
        "#from above html.doc\n",
        "\n",
        "a=soup.html\n",
        "print(a.prettify())\n",
        "\n",
        "next_prev=soup.a\n",
        "print(\"\\n\\n\")\n",
        "print(\"Next siblings of ::\",next_prev.next_sibling)  # prints the element in same branch of next of the present\n",
        "print()\n",
        "print(\"Previous siblings of ::\",next_prev.previous_sibling) #prints the elemtn of same branch of previous of the present\n",
        "\n",
        "\n",
        "for next in next_prev.next_siblings:\n",
        "    print(\"Next Siblings:::\",next)\n",
        "\n",
        "for prev in next_prev.previous_siblings:\n",
        "    print(\"Previous Siblings::\",prev)"
      ],
      "metadata": {
        "colab": {
          "base_uri": "https://localhost:8080/"
        },
        "id": "jCP8ZtPTlqw4",
        "outputId": "dcc29105-1ada-4de4-d7e2-f4f18967f8dd"
      },
      "execution_count": null,
      "outputs": [
        {
          "output_type": "stream",
          "name": "stdout",
          "text": [
            "<html>\n",
            " <head>\n",
            "  <title>\n",
            "   The Dormouse's story\n",
            "  </title>\n",
            " </head>\n",
            " <body>\n",
            "  <p class=\"title\">\n",
            "   <b>\n",
            "    The Dormouse's story\n",
            "   </b>\n",
            "  </p>\n",
            "  <p class=\"story\">\n",
            "   Once upon a time there were three little sisters; and their names were\n",
            "   <a class=\"sister\" href=\"http://example.com/elsie\" id=\"link1\">\n",
            "    Elsie\n",
            "   </a>\n",
            "   ,\n",
            "   <a class=\"sister\" href=\"http://example.com/lacie\" id=\"link2\">\n",
            "    Lacie\n",
            "   </a>\n",
            "   and\n",
            "   <a class=\"sister\" href=\"http://example.com/tillie\" id=\"link3\">\n",
            "    Tillie\n",
            "   </a>\n",
            "   ;\n",
            "  </p>\n",
            " </body>\n",
            "</html>\n",
            "\n",
            "\n",
            "\n",
            "\n",
            "Next siblings of :: ,\n",
            "\n",
            "\n",
            "Previous siblings of :: Once upon a time there were three little sisters; and their names were\n",
            "\n",
            "Next Siblings::: ,\n",
            "\n",
            "Next Siblings::: <a class=\"sister\" href=\"http://example.com/lacie\" id=\"link2\">Lacie</a>\n",
            "Next Siblings:::  and\n",
            "\n",
            "Next Siblings::: <a class=\"sister\" href=\"http://example.com/tillie\" id=\"link3\">Tillie</a>\n",
            "Next Siblings::: ;\n",
            "\n",
            "Previous Siblings:: Once upon a time there were three little sisters; and their names were\n",
            "\n"
          ]
        }
      ]
    },
    {
      "cell_type": "code",
      "source": [
        "#.next_elements  and .previous_elements\n",
        "\n",
        "print(\"Next elements after head::\")\n",
        "\n",
        "for elements in soup.head.next_elements:\n",
        "    print(elements.name,end=\" , \") # prints all elements after next element\n",
        "print(\"\\n\\nPrevious elements before a link::\")\n",
        "for elements in soup.a.previous_elements:\n",
        "    print(elements.name,end=\" , \")"
      ],
      "metadata": {
        "colab": {
          "base_uri": "https://localhost:8080/"
        },
        "id": "L5dE8fjHqUcR",
        "outputId": "38ad33b7-e84b-4e09-cc22-4ff9bdb5b5ea"
      },
      "execution_count": null,
      "outputs": [
        {
          "output_type": "stream",
          "name": "stdout",
          "text": [
            "Next elements after head::\n",
            "title , None , None , body , None , p , b , None , None , p , None , a , None , None , a , None , None , a , None , None , \n",
            "\n",
            "Previous elements before a link::\n",
            "None , p , None , None , b , p , None , body , None , None , title , head , html , None , "
          ]
        }
      ]
    },
    {
      "cell_type": "markdown",
      "source": [
        "# ** Searching the Tree**\n",
        "\n",
        "find()  and find_all()\n",
        "\n",
        "## Kinds of Filters\n",
        "\n",
        "\n"
      ],
      "metadata": {
        "id": "qz_jgnlwz6lI"
      }
    },
    {
      "cell_type": "code",
      "source": [
        "#find()  and find_all()\n",
        "\n",
        "\n",
        "html_doc=\"\"\"\n",
        "<html><head><title>The Dormouse's story</title></head>\n",
        "<body>\n",
        "<p class=\"title\"><b>The Dormouse's story</b></p>\n",
        "\n",
        "<p class=\"story\">Once upon a time there were three little sisters; and their names were\n",
        "<a href=\"http://example.com/elsie\" class=\"sister\" id=\"link1\">Elsie</a>,\n",
        "<a href=\"http://example.com/lacie\" class=\"sister\" id=\"link2\">Lacie</a> and\n",
        "<a href=\"http://example.com/tillie\" class=\"sister\" id=\"link3\">Tillie</a>;\"\"\"\n",
        "\n",
        "from bs4 import BeautifulSoup\n",
        "soup = BeautifulSoup(html_doc, 'html.parser')\n",
        "\n"
      ],
      "metadata": {
        "id": "xSCcMiRVxGyn"
      },
      "execution_count": null,
      "outputs": []
    },
    {
      "cell_type": "code",
      "source": [
        "#A String filter.  Pass  a string to the filter\n",
        "\n",
        "print(soup.find_all('b'))"
      ],
      "metadata": {
        "colab": {
          "base_uri": "https://localhost:8080/"
        },
        "id": "tqqQHZNNJJeN",
        "outputId": "f850160c-d92e-44df-b0a6-cfcafe26a1ab"
      },
      "execution_count": null,
      "outputs": [
        {
          "output_type": "stream",
          "name": "stdout",
          "text": [
            "[<b>The Dormouse's story</b>]\n"
          ]
        }
      ]
    },
    {
      "cell_type": "code",
      "source": [
        "# regular expression\n",
        "\n",
        "for tag in soup.find_all('a'):\n",
        "    print(tag)   #prints by filtering by 'a'\n",
        "print(tag.name=='b')\n"
      ],
      "metadata": {
        "colab": {
          "base_uri": "https://localhost:8080/"
        },
        "id": "9vEjejv4JTMi",
        "outputId": "c10d6cf9-ca73-4a3b-ebc8-d6dfa3d5a719"
      },
      "execution_count": null,
      "outputs": [
        {
          "output_type": "stream",
          "name": "stdout",
          "text": [
            "<a class=\"sister\" href=\"http://example.com/elsie\" id=\"link1\">Elsie</a>\n",
            "<a class=\"sister\" href=\"http://example.com/lacie\" id=\"link2\">Lacie</a>\n",
            "<a class=\"sister\" href=\"http://example.com/tillie\" id=\"link3\">Tillie</a>\n",
            "False\n"
          ]
        }
      ]
    },
    {
      "cell_type": "code",
      "source": [
        "# fileter by list\n",
        "\n",
        "for tag in soup.find_all(['a','p','b']):\n",
        "    print(tag,\"::::tag_name::\",tag.name)\n"
      ],
      "metadata": {
        "colab": {
          "base_uri": "https://localhost:8080/"
        },
        "id": "rZGMOfQKJgVu",
        "outputId": "76a59f6f-3715-4715-c33a-0e4ef4ee1165"
      },
      "execution_count": null,
      "outputs": [
        {
          "output_type": "stream",
          "name": "stdout",
          "text": [
            "<p class=\"title\"><b>The Dormouse's story</b></p> ::::tag_name:: p\n",
            "<b>The Dormouse's story</b> ::::tag_name:: b\n",
            "<p class=\"story\">Once upon a time there were three little sisters; and their names were\n",
            "<a class=\"sister\" href=\"http://example.com/elsie\" id=\"link1\">Elsie</a>,\n",
            "<a class=\"sister\" href=\"http://example.com/lacie\" id=\"link2\">Lacie</a> and\n",
            "<a class=\"sister\" href=\"http://example.com/tillie\" id=\"link3\">Tillie</a>;</p> ::::tag_name:: p\n",
            "<a class=\"sister\" href=\"http://example.com/elsie\" id=\"link1\">Elsie</a> ::::tag_name:: a\n",
            "<a class=\"sister\" href=\"http://example.com/lacie\" id=\"link2\">Lacie</a> ::::tag_name:: a\n",
            "<a class=\"sister\" href=\"http://example.com/tillie\" id=\"link3\">Tillie</a> ::::tag_name:: a\n"
          ]
        }
      ]
    },
    {
      "cell_type": "code",
      "source": [
        "# Parse by function\n",
        "\n",
        "soup=BeautifulSoup(html_doc, 'html.parser')\n",
        "\n",
        "def has_class_but_no_id(soup):\n",
        "    return soup.has_attr('class')  and not  soup.has_attr('id')\n",
        "\n",
        "soup.find_all(has_class_but_no_id)"
      ],
      "metadata": {
        "colab": {
          "base_uri": "https://localhost:8080/"
        },
        "id": "QmhJ79bsKSdR",
        "outputId": "5dca93a6-c2f9-42d3-b178-200790d163d8"
      },
      "execution_count": null,
      "outputs": [
        {
          "output_type": "execute_result",
          "data": {
            "text/plain": [
              "[<p class=\"title\"><b>The Dormouse's story</b></p>,\n",
              " <p class=\"story\">Once upon a time there were three little sisters; and their names were\n",
              " <a class=\"sister\" href=\"http://example.com/elsie\" id=\"link1\">Elsie</a>,\n",
              " <a class=\"sister\" href=\"http://example.com/lacie\" id=\"link2\">Lacie</a> and\n",
              " <a class=\"sister\" href=\"http://example.com/tillie\" id=\"link3\">Tillie</a>;</p>]"
            ]
          },
          "metadata": {},
          "execution_count": 270
        }
      ]
    },
    {
      "cell_type": "code",
      "source": [
        "#search()\n",
        "\n",
        "\n"
      ],
      "metadata": {
        "id": "ibAY_jebL2pO"
      },
      "execution_count": null,
      "outputs": []
    },
    {
      "cell_type": "code",
      "source": [
        "#to check if a tag is surrounded by string of objec0ts\n",
        "\n",
        "tag= soup.head\n",
        "from bs4 import NavigableString\n",
        "\n",
        "def check_string(tag):\n",
        "    return isinstance(tag.next_element,NavigableString) and isinstance(tag.previous_element,NavigableString)\n",
        "\n",
        "\n",
        "\n",
        "result_string=soup.find_all(check_string)[0]\n",
        "result_string\n"
      ],
      "metadata": {
        "colab": {
          "base_uri": "https://localhost:8080/"
        },
        "id": "FmOAOlWInjsa",
        "outputId": "c8c7713e-84f1-4b51-e696-f0001d217b11"
      },
      "execution_count": null,
      "outputs": [
        {
          "output_type": "execute_result",
          "data": {
            "text/plain": [
              "<body>\n",
              "<p class=\"title\"><b>The Dormouse's story</b></p>\n",
              "<p class=\"story\">Once upon a time there were three little sisters; and their names were\n",
              "<a class=\"sister\" href=\"http://example.com/elsie\" id=\"link1\">Elsie</a>,\n",
              "<a class=\"sister\" href=\"http://example.com/lacie\" id=\"link2\">Lacie</a> and\n",
              "<a class=\"sister\" href=\"http://example.com/tillie\" id=\"link3\">Tillie</a>;</p></body>"
            ]
          },
          "metadata": {},
          "execution_count": 292
        }
      ]
    },
    {
      "cell_type": "code",
      "source": [
        "#find_all()\n",
        "\n",
        "\n",
        "html_doc=\"\"\"\n",
        "<html><head><title>The Dormouse's story</title></head>\n",
        "<body>\n",
        "<p class=\"title\"><b>The Dormouse's story</b></p>\n",
        "\n",
        "<p class=\"story\">Once upon a time there were three little sisters; and their names were\n",
        "<a href=\"http://example.com/elsie\" class=\"sister\" id=\"link1\">Elsie</a>,\n",
        "<a href=\"http://example.com/lacie\" class=\"sister\" id=\"link2\">Lacie</a> and\n",
        "<a href=\"http://example.com/tillie\" class=\"sister\" id=\"link3\">Tillie</a>;\"\"\"\n",
        "\n",
        "from bs4 import BeautifulSoup\n",
        "soup = BeautifulSoup(html_doc, 'html.parser')\n",
        "\n",
        "print(soup.find_all('p','title'))\n",
        "print(soup.find_all('a'))\n",
        "print(soup.find_all(id='link2'))  #keyword argument\n",
        "print(soup.find_all(id='link', attrs='Elsie')) #keyword argumtn\n",
        "print(soup.find_all(string=['Elsie','Tillie'])) #passing list  #string is replaced previous text\n",
        "\n",
        "print(soup.find_all(string=\"Elsie\"))\n",
        "print(soup.find_all(text='Elsie'))\n"
      ],
      "metadata": {
        "colab": {
          "base_uri": "https://localhost:8080/"
        },
        "id": "rKHodw6_peFo",
        "outputId": "d98a537b-10c3-485e-bbf0-f1970126e3ab"
      },
      "execution_count": null,
      "outputs": [
        {
          "output_type": "stream",
          "name": "stdout",
          "text": [
            "[<p class=\"title\"><b>The Dormouse's story</b></p>]\n",
            "[<a class=\"sister\" href=\"http://example.com/elsie\" id=\"link1\">Elsie</a>, <a class=\"sister\" href=\"http://example.com/lacie\" id=\"link2\">Lacie</a>, <a class=\"sister\" href=\"http://example.com/tillie\" id=\"link3\">Tillie</a>]\n",
            "[<a class=\"sister\" href=\"http://example.com/lacie\" id=\"link2\">Lacie</a>]\n",
            "[]\n",
            "['Elsie', 'Tillie']\n",
            "['Elsie']\n",
            "['Elsie']\n"
          ]
        },
        {
          "output_type": "stream",
          "name": "stderr",
          "text": [
            "<ipython-input-334-5aae1d3bd1c0>:24: DeprecationWarning: The 'text' argument to find()-type methods is deprecated. Use 'string' instead.\n",
            "  print(soup.find_all(text='Elsie'))\n"
          ]
        }
      ]
    },
    {
      "cell_type": "code",
      "source": [
        "#limit\n",
        "#To limit the no of results\n",
        "\n",
        "tag=soup.find_all('a',limit=2)  #limits to 2 results\n",
        "tag"
      ],
      "metadata": {
        "colab": {
          "base_uri": "https://localhost:8080/"
        },
        "id": "Dnv2K3VWvQzd",
        "outputId": "36928e16-c6aa-494a-d8de-61e48a268223"
      },
      "execution_count": null,
      "outputs": [
        {
          "output_type": "execute_result",
          "data": {
            "text/plain": [
              "[<a class=\"sister\" href=\"http://example.com/elsie\" id=\"link1\">Elsie</a>,\n",
              " <a class=\"sister\" href=\"http://example.com/lacie\" id=\"link2\">Lacie</a>]"
            ]
          },
          "metadata": {},
          "execution_count": 338
        }
      ]
    },
    {
      "cell_type": "code",
      "source": [
        "#recursive\n",
        "# only to grab the result of children of particular parent class\n",
        "\n",
        "tag=soup.html.find_all('title',recursive=False)\n",
        "print(tag)\n",
        "tag1=soup.html.find_all('head',recursive=False)\n",
        "print(tag1)"
      ],
      "metadata": {
        "colab": {
          "base_uri": "https://localhost:8080/"
        },
        "id": "sARnNoIIJPiG",
        "outputId": "00a8ddc6-7b3d-43a7-8e36-cca3e649e9e1"
      },
      "execution_count": null,
      "outputs": [
        {
          "output_type": "stream",
          "name": "stdout",
          "text": [
            "[<title>The Dormouse's story</title>]\n",
            "[<head><title>The Dormouse's story</title></head>]\n"
          ]
        }
      ]
    },
    {
      "cell_type": "code",
      "source": [
        "#Both are same\n",
        "print(soup.title.find_all(string=True))\n",
        "print(soup.title(string=True))"
      ],
      "metadata": {
        "colab": {
          "base_uri": "https://localhost:8080/"
        },
        "id": "OJAhrgmAJwLN",
        "outputId": "b2fba859-a314-4212-9ee7-318029a03e44"
      },
      "execution_count": null,
      "outputs": [
        {
          "output_type": "stream",
          "name": "stdout",
          "text": [
            "[\"The Dormouse's story\"]\n",
            "[\"The Dormouse's story\"]\n"
          ]
        }
      ]
    },
    {
      "cell_type": "code",
      "source": [
        "#find()\n",
        "# to find single string\n",
        "\n",
        "print(\"find:::\",soup.find('body'))\n",
        "print(\"find all:::\",soup.find_all('body',limit=1))\n"
      ],
      "metadata": {
        "colab": {
          "base_uri": "https://localhost:8080/"
        },
        "id": "w8iB7wteX_jE",
        "outputId": "5e10b330-c26a-48c3-ea97-fd6c3f73c106"
      },
      "execution_count": null,
      "outputs": [
        {
          "output_type": "stream",
          "name": "stdout",
          "text": [
            "find::: <body>\n",
            "<p class=\"title\"><b>The Dormouse's story</b></p>\n",
            "<p class=\"story\">Once upon a time there were three little sisters; and their names were\n",
            "<a class=\"sister\" href=\"http://example.com/elsie\" id=\"link1\">Elsie</a>,\n",
            "<a class=\"sister\" href=\"http://example.com/lacie\" id=\"link2\">Lacie</a> and\n",
            "<a class=\"sister\" href=\"http://example.com/tillie\" id=\"link3\">Tillie</a>;</p></body>\n",
            "find all::: [<body>\n",
            "<p class=\"title\"><b>The Dormouse's story</b></p>\n",
            "<p class=\"story\">Once upon a time there were three little sisters; and their names were\n",
            "<a class=\"sister\" href=\"http://example.com/elsie\" id=\"link1\">Elsie</a>,\n",
            "<a class=\"sister\" href=\"http://example.com/lacie\" id=\"link2\">Lacie</a> and\n",
            "<a class=\"sister\" href=\"http://example.com/tillie\" id=\"link3\">Tillie</a>;</p></body>]\n",
            "None\n"
          ]
        }
      ]
    },
    {
      "cell_type": "code",
      "source": [
        "html_doc=\"\"\"\n",
        "<html><head><title>The Dormouse's story</title></head>\n",
        "<body>\n",
        "<p class=\"title\"><b>The Dormouse's story</b></p>\n",
        "\n",
        "<p class=\"story\">Once upon a time there were three little sisters; and their names were\n",
        "<a href=\"http://example.com/elsie\" class=\"sister\" id=\"link1\">Elsie</a>,\n",
        "<a href=\"http://example.com/lacie\" class=\"sister\" id=\"link2\">Lacie</a> and\n",
        "<a href=\"http://example.com/tillie\" class=\"sister\" id=\"link3\">Tillie</a>;\"\"\"\n",
        "\n",
        "from bs4 import BeautifulSoup\n",
        "soup = BeautifulSoup(html_doc, 'html.parser')\n",
        "\n",
        "#same result but different notation\n",
        "print(soup.find('head').find('title'))\n",
        "print(soup.head.title)"
      ],
      "metadata": {
        "colab": {
          "base_uri": "https://localhost:8080/"
        },
        "id": "Elf34TWdYbEX",
        "outputId": "1547ab99-f0ca-4b2d-bb1d-456d18452ca2"
      },
      "execution_count": null,
      "outputs": [
        {
          "output_type": "stream",
          "name": "stdout",
          "text": [
            "<title>The Dormouse's story</title>\n",
            "<title>The Dormouse's story</title>\n"
          ]
        }
      ]
    },
    {
      "cell_type": "code",
      "source": [
        "a=soup.find(string='Lacie')\n",
        "print(a.find_parents('a'))\n",
        "print(a.find_parent('p'))"
      ],
      "metadata": {
        "colab": {
          "base_uri": "https://localhost:8080/"
        },
        "id": "ZkXgx8FZZsVm",
        "outputId": "222b3a6c-6374-40e0-a881-b2de03a0b959"
      },
      "execution_count": null,
      "outputs": [
        {
          "output_type": "stream",
          "name": "stdout",
          "text": [
            "[<a class=\"sister\" href=\"http://example.com/lacie\" id=\"link2\">Lacie</a>]\n",
            "<p class=\"story\">Once upon a time there were three little sisters; and their names were\n",
            "<a class=\"sister\" href=\"http://example.com/elsie\" id=\"link1\">Elsie</a>,\n",
            "<a class=\"sister\" href=\"http://example.com/lacie\" id=\"link2\">Lacie</a> and\n",
            "<a class=\"sister\" href=\"http://example.com/tillie\" id=\"link3\">Tillie</a>;</p>\n"
          ]
        }
      ]
    },
    {
      "cell_type": "code",
      "source": [
        "#find_previous_sibling()\n",
        "last_link = soup.find(\"a\", id=\"link3\")\n",
        "last_link\n",
        "print(last_link.find_previous_siblings())\n",
        "\n",
        "\n",
        "last_link = soup.find(\"p\", \"story\")\n",
        "print(last_link.find_next_siblings())"
      ],
      "metadata": {
        "colab": {
          "base_uri": "https://localhost:8080/"
        },
        "id": "uoKUSWNIafEC",
        "outputId": "3ff1406b-c4fd-42e1-dd61-64fb6dd28960"
      },
      "execution_count": null,
      "outputs": [
        {
          "output_type": "stream",
          "name": "stdout",
          "text": [
            "[<a class=\"sister\" href=\"http://example.com/lacie\" id=\"link2\">Lacie</a>, <a class=\"sister\" href=\"http://example.com/elsie\" id=\"link1\">Elsie</a>]\n",
            "[]\n"
          ]
        }
      ]
    },
    {
      "cell_type": "code",
      "source": [
        "#find_all_next()\n",
        "#find_next()\n",
        "\n",
        "link_list=soup.a\n",
        "link_list\n",
        "\n",
        "print(link_list.find_all_next()) #Finds all next\n",
        "print()\n",
        "print(link_list.find_next()) #finds first successive next"
      ],
      "metadata": {
        "colab": {
          "base_uri": "https://localhost:8080/"
        },
        "id": "PvrzR6P4ebmi",
        "outputId": "59f70020-030b-4d78-e393-5cfedb4f0442"
      },
      "execution_count": null,
      "outputs": [
        {
          "output_type": "stream",
          "name": "stdout",
          "text": [
            "[<a class=\"sister\" href=\"http://example.com/lacie\" id=\"link2\">Lacie</a>, <a class=\"sister\" href=\"http://example.com/tillie\" id=\"link3\">Tillie</a>]\n",
            "\n",
            "<a class=\"sister\" href=\"http://example.com/lacie\" id=\"link2\">Lacie</a>\n"
          ]
        }
      ]
    },
    {
      "cell_type": "code",
      "source": [
        "#find_all-previous()\n",
        "#find_previous()\n",
        "\n",
        "link_list=soup.a\n",
        "link_list\n",
        "\n",
        "print(link_list.find_all_previous()) #Finds all previous\n",
        "print()\n",
        "print(link_list.find_previous()) #finds first successive previos"
      ],
      "metadata": {
        "colab": {
          "base_uri": "https://localhost:8080/"
        },
        "id": "HvvI1UdZfpiw",
        "outputId": "7a30915a-d9aa-49b9-b794-bb1896100c2b"
      },
      "execution_count": null,
      "outputs": [
        {
          "output_type": "stream",
          "name": "stdout",
          "text": [
            "[<p class=\"story\">Once upon a time there were three little sisters; and their names were\n",
            "<a class=\"sister\" href=\"http://example.com/elsie\" id=\"link1\">Elsie</a>,\n",
            "<a class=\"sister\" href=\"http://example.com/lacie\" id=\"link2\">Lacie</a> and\n",
            "<a class=\"sister\" href=\"http://example.com/tillie\" id=\"link3\">Tillie</a>;</p>, <b>The Dormouse's story</b>, <p class=\"title\"><b>The Dormouse's story</b></p>, <body>\n",
            "<p class=\"title\"><b>The Dormouse's story</b></p>\n",
            "<p class=\"story\">Once upon a time there were three little sisters; and their names were\n",
            "<a class=\"sister\" href=\"http://example.com/elsie\" id=\"link1\">Elsie</a>,\n",
            "<a class=\"sister\" href=\"http://example.com/lacie\" id=\"link2\">Lacie</a> and\n",
            "<a class=\"sister\" href=\"http://example.com/tillie\" id=\"link3\">Tillie</a>;</p></body>, <title>The Dormouse's story</title>, <head><title>The Dormouse's story</title></head>, <html><head><title>The Dormouse's story</title></head>\n",
            "<body>\n",
            "<p class=\"title\"><b>The Dormouse's story</b></p>\n",
            "<p class=\"story\">Once upon a time there were three little sisters; and their names were\n",
            "<a class=\"sister\" href=\"http://example.com/elsie\" id=\"link1\">Elsie</a>,\n",
            "<a class=\"sister\" href=\"http://example.com/lacie\" id=\"link2\">Lacie</a> and\n",
            "<a class=\"sister\" href=\"http://example.com/tillie\" id=\"link3\">Tillie</a>;</p></body></html>]\n",
            "\n",
            "<p class=\"story\">Once upon a time there were three little sisters; and their names were\n",
            "<a class=\"sister\" href=\"http://example.com/elsie\" id=\"link1\">Elsie</a>,\n",
            "<a class=\"sister\" href=\"http://example.com/lacie\" id=\"link2\">Lacie</a> and\n",
            "<a class=\"sister\" href=\"http://example.com/tillie\" id=\"link3\">Tillie</a>;</p>\n"
          ]
        }
      ]
    },
    {
      "cell_type": "code",
      "source": [
        "#select()\n",
        "\n",
        "print(soup.select('title'),\"\\n\\n\",\n",
        "      soup.select('html'),\"\\n\\n\",\n",
        "      soup.select('head'),\"\\n\\n\",\n",
        "      soup.select('#id,#link1'),\"\\n\\n\",\n",
        "      soup.select('a[href]'))\n",
        "\n",
        "print()\n",
        "print(\"Select_one():::\",soup.select_one('.sister')) #toselect first one"
      ],
      "metadata": {
        "colab": {
          "base_uri": "https://localhost:8080/"
        },
        "id": "YkM4K3Xohfxg",
        "outputId": "3a9164c0-9a89-4634-f221-6ea97219e43a"
      },
      "execution_count": null,
      "outputs": [
        {
          "output_type": "stream",
          "name": "stdout",
          "text": [
            "[<title>The Dormouse's story</title>] \n",
            "\n",
            " [<html><head><title>The Dormouse's story</title></head>\n",
            "<body>\n",
            "<p class=\"title\"><b>The Dormouse's story</b></p>\n",
            "<p class=\"story\">Once upon a time there were three little sisters; and their names were\n",
            "<a class=\"sister\" href=\"http://example.com/elsie\" id=\"link1\">Elsie</a>,\n",
            "<a class=\"sister\" href=\"http://example.com/lacie\" id=\"link2\">Lacie</a> and\n",
            "<a class=\"sister\" href=\"http://example.com/tillie\" id=\"link3\">Tillie</a>;</p></body></html>] \n",
            "\n",
            " [<head><title>The Dormouse's story</title></head>] \n",
            "\n",
            " [<a class=\"sister\" href=\"http://example.com/elsie\" id=\"link1\">Elsie</a>] \n",
            "\n",
            " [<a class=\"sister\" href=\"http://example.com/elsie\" id=\"link1\">Elsie</a>, <a class=\"sister\" href=\"http://example.com/lacie\" id=\"link2\">Lacie</a>, <a class=\"sister\" href=\"http://example.com/tillie\" id=\"link3\">Tillie</a>]\n",
            "\n",
            "Select_one()::: <a class=\"sister\" href=\"http://example.com/elsie\" id=\"link1\">Elsie</a>\n"
          ]
        }
      ]
    },
    {
      "cell_type": "markdown",
      "source": [
        "# ** Modifying the tree**"
      ],
      "metadata": {
        "id": "y5iE07cAkVJn"
      }
    },
    {
      "cell_type": "code",
      "source": [
        "soup = BeautifulSoup('<b class=\"boldest\">Extremely bold</b>')\n",
        "tag = soup.b\n",
        "\n",
        "tag['b']='bold'\n",
        "tag.name='Italic'\n",
        "tag['class']='New bold'\n",
        "tag['id']=1\n",
        "\n",
        "tag"
      ],
      "metadata": {
        "colab": {
          "base_uri": "https://localhost:8080/"
        },
        "id": "4kDbPhCCh-Am",
        "outputId": "517cff3c-3b54-4a8c-d66b-7a01427566db"
      },
      "execution_count": null,
      "outputs": [
        {
          "output_type": "execute_result",
          "data": {
            "text/plain": [
              "<Italic b=\"bold\" class=\"New bold\" id=\"1\">Extremely bold</Italic>"
            ]
          },
          "metadata": {},
          "execution_count": 417
        }
      ]
    },
    {
      "cell_type": "code",
      "source": [
        "#modifying string\n",
        "\n",
        "tag.string='New italic'\n",
        "tag\n"
      ],
      "metadata": {
        "colab": {
          "base_uri": "https://localhost:8080/"
        },
        "id": "ZVhSKbLBkpfH",
        "outputId": "57a2b4a2-8ef1-4eea-b064-8213c16d9dc8"
      },
      "execution_count": null,
      "outputs": [
        {
          "output_type": "execute_result",
          "data": {
            "text/plain": [
              "<Italic b=\"bold\" class=\"New bold\" id=\"1\">New italic</Italic>"
            ]
          },
          "metadata": {},
          "execution_count": 418
        }
      ]
    },
    {
      "cell_type": "code",
      "source": [
        "#append()\n",
        "#appends to string\n",
        "soup = BeautifulSoup('<b class=\"boldest\">Extremely bold</b>')\n",
        "tag = soup\n",
        "\n",
        "tag.append('sonic')  #appenda at end\n",
        "tag\n",
        "tag.b.append('italic')\n",
        "tag.contents\n",
        "\n",
        "tag.extend([' link',\"  \",'list'])\n",
        "tag.contents"
      ],
      "metadata": {
        "colab": {
          "base_uri": "https://localhost:8080/"
        },
        "id": "mihlZl-MnYHT",
        "outputId": "1c690e27-e59b-43e5-e47e-076f63c058ab"
      },
      "execution_count": null,
      "outputs": [
        {
          "output_type": "execute_result",
          "data": {
            "text/plain": [
              "[<html><body><b class=\"boldest\">Extremely bold  italic</b></body></html>,\n",
              " 'sonic',\n",
              " ' link',\n",
              " '  ',\n",
              " 'list']"
            ]
          },
          "metadata": {},
          "execution_count": 441
        }
      ]
    },
    {
      "cell_type": "code",
      "source": [
        "#NavigableString() and #new_tag()\n",
        "from bs4 import NavigableString\n",
        "\n",
        "p = BeautifulSoup(\"<b></b>\")\n",
        "tag = soup.b\n",
        "tag.append(\"Hello\")\n",
        "new_string = NavigableString(\" there\")\n",
        "tag.append(new_string)\n",
        "tag\n",
        "# <b>Hello there.</b>\n",
        "tag.contents\n",
        "# [u'Hello', u' there']\n"
      ],
      "metadata": {
        "colab": {
          "base_uri": "https://localhost:8080/"
        },
        "id": "XHaC2N1Fnpda",
        "outputId": "2c625012-b5ba-4bf2-a3ab-13f9aabd4ab6"
      },
      "execution_count": null,
      "outputs": [
        {
          "output_type": "execute_result",
          "data": {
            "text/plain": [
              "['Hello Welcome to  BeautifulSoup', ' Mr.Shiva', 'Hello', ' there']"
            ]
          },
          "metadata": {},
          "execution_count": 100
        }
      ]
    },
    {
      "cell_type": "code",
      "source": [
        "#insert()\n",
        "\n",
        "soup = BeautifulSoup(\"<b></b>\")\n",
        "tag = soup.b\n",
        "tag.insert(2,\"Hello Welcome to  BeautifulSoup\")\n",
        "new_string = NavigableString(\" Mr.Shiva\")\n",
        "tag.insert(0,new_string)\n",
        "print(tag)\n",
        "tag.insert(4,new_string)\n",
        "tag\n"
      ],
      "metadata": {
        "colab": {
          "base_uri": "https://localhost:8080/"
        },
        "id": "unNUooYApx3O",
        "outputId": "0fbbaa99-2e00-46aa-d3ab-2d976b60b36b"
      },
      "execution_count": null,
      "outputs": [
        {
          "output_type": "stream",
          "name": "stdout",
          "text": [
            "<b> Mr.ShivaHello Welcome to  BeautifulSoup</b>\n"
          ]
        },
        {
          "output_type": "execute_result",
          "data": {
            "text/plain": [
              "<b>Hello Welcome to  BeautifulSoup Mr.Shiva</b>"
            ]
          },
          "metadata": {},
          "execution_count": 99
        }
      ]
    },
    {
      "cell_type": "code",
      "source": [
        "#insert_before()\n",
        "#insert_after()\n",
        "from bs4 import BeautifulSoup\n",
        "\n",
        "soup = BeautifulSoup(\"<b>How are you</b>\")\n",
        "tag = soup.new_tag('u')\n",
        "tag.string='Mr.Shiva'\n",
        "\n",
        "soup.b.string.insert_before(tag)\n",
        "tag1=soup.b\n",
        "print(\"Inser before::\",tag1)\n",
        "\n",
        "tag2=soup.new_tag('i')\n",
        "tag2.string=\"After Insert\"\n",
        "soup.b.u.insert_after(tag2)\n",
        "tag2=soup.b\n",
        "\n",
        "print(tag2)\n"
      ],
      "metadata": {
        "colab": {
          "base_uri": "https://localhost:8080/"
        },
        "id": "dSalBgJgLUlO",
        "outputId": "f6afbfc9-f77c-4914-adab-fb1a3f7c83d0"
      },
      "execution_count": null,
      "outputs": [
        {
          "output_type": "stream",
          "name": "stdout",
          "text": [
            "Inser before:: <b><u>Mr.Shiva</u>How are you</b>\n",
            "<b><u>Mr.Shiva</u><i>After Insert</i>How are you</b>\n"
          ]
        }
      ]
    },
    {
      "cell_type": "code",
      "source": [
        "#clear()\n",
        "#Removes content of tag\n",
        "from bs4 import BeautifulSoup\n",
        "\n",
        "data='<a href=\"http://google.com/\">google.com> /a>'\n",
        "soup=BeautifulSoup(data)\n",
        "tag=soup.a\n",
        "\n",
        "tag.clear()  #clears google.com\n",
        "tag\n",
        "\n",
        "\n"
      ],
      "metadata": {
        "colab": {
          "base_uri": "https://localhost:8080/"
        },
        "id": "d0Yp1IpMMP-0",
        "outputId": "8f8daf78-c314-43cc-fbc9-4d217e39f74d"
      },
      "execution_count": null,
      "outputs": [
        {
          "output_type": "execute_result",
          "data": {
            "text/plain": [
              "<a href=\"http://google.com/\"></a>"
            ]
          },
          "metadata": {},
          "execution_count": 2
        }
      ]
    },
    {
      "cell_type": "code",
      "source": [
        "#extract()\n",
        "#Extracts particular tag\n",
        "\n",
        "soup=BeautifulSoup('<a href=google.com><b>Google</b><i>google.com</i></a>')\n",
        "tag=soup.a\n",
        "\n",
        "i_tag=tag.i.extract()\n",
        "print(i_tag)\n",
        "\n",
        "print(i_tag.parent)\n",
        "print(i_tag.string.extract)"
      ],
      "metadata": {
        "colab": {
          "base_uri": "https://localhost:8080/"
        },
        "id": "4gIBirp2SR2l",
        "outputId": "a7a9e787-eeca-4914-dabb-2113d99b11ab"
      },
      "execution_count": null,
      "outputs": [
        {
          "output_type": "stream",
          "name": "stdout",
          "text": [
            "<i>google.com</i>\n",
            "None\n",
            "<bound method PageElement.extract of 'google.com'>\n"
          ]
        }
      ]
    },
    {
      "cell_type": "code",
      "source": [
        "#decompose()\n",
        "#Removes from the tree\n",
        "\n",
        "soup=BeautifulSoup('<a href=google.com><b>Google</b><i>google.com</i></a>')\n",
        "tag=soup.a\n",
        "\n",
        "tag.i.decompose()\n",
        "tag"
      ],
      "metadata": {
        "colab": {
          "base_uri": "https://localhost:8080/"
        },
        "id": "O5Nx1BSj0JEd",
        "outputId": "399a12ae-5b71-43d4-9750-a09ab37ea6be"
      },
      "execution_count": null,
      "outputs": [
        {
          "output_type": "execute_result",
          "data": {
            "text/plain": [
              "<a href=\"google.com\"><b>Google</b></a>"
            ]
          },
          "metadata": {},
          "execution_count": 30
        }
      ]
    },
    {
      "cell_type": "code",
      "source": [
        "#replace_with()\n",
        "\n",
        "soup=BeautifulSoup('<a href=google.com><b>Google</b><i>google.com</i></a>')\n",
        "tag=soup.a\n",
        "\n",
        "tag.i.string.replace_with('msn.com')\n",
        "tag"
      ],
      "metadata": {
        "colab": {
          "base_uri": "https://localhost:8080/"
        },
        "id": "v1vqVit-7KZ6",
        "outputId": "01ed2430-e17f-4fd7-ed71-afab2bf5f970"
      },
      "execution_count": null,
      "outputs": [
        {
          "output_type": "execute_result",
          "data": {
            "text/plain": [
              "<a href=\"google.com\"><b>Google</b><i>msn.com</i></a>"
            ]
          },
          "metadata": {},
          "execution_count": 32
        }
      ]
    },
    {
      "cell_type": "code",
      "source": [
        "#wrap()\n",
        "\n",
        "soup=BeautifulSoup(\"<b>Google</b>\")\n",
        "tag=soup.b\n",
        "p_tag=soup.new_tag('p')\n",
        "\n",
        "tag.string.wrap(p_tag)\n",
        "tag"
      ],
      "metadata": {
        "colab": {
          "base_uri": "https://localhost:8080/"
        },
        "id": "OQwUt3kl8gnr",
        "outputId": "56a8acb8-573f-4d6a-f9aa-1f9b21d03893"
      },
      "execution_count": null,
      "outputs": [
        {
          "output_type": "execute_result",
          "data": {
            "text/plain": [
              "<b><p>Google</p></b>"
            ]
          },
          "metadata": {},
          "execution_count": 44
        }
      ]
    },
    {
      "cell_type": "code",
      "source": [
        "#unwrap()\n",
        "\n",
        "soup=BeautifulSoup('<a href=google.com><b>Google</b><i>google.com</i></a>')\n",
        "a_tag=soup.a\n",
        "a_tag.i.unwrap()\n",
        "tag"
      ],
      "metadata": {
        "colab": {
          "base_uri": "https://localhost:8080/"
        },
        "id": "yc3BvA7w-skr",
        "outputId": "11f58c90-60ef-42eb-a862-ce59f55bb8d8"
      },
      "execution_count": null,
      "outputs": [
        {
          "output_type": "execute_result",
          "data": {
            "text/plain": [
              "<a href=\"google.com\"><b>Google</b>google.com</a>"
            ]
          },
          "metadata": {},
          "execution_count": 77
        }
      ]
    },
    {
      "cell_type": "code",
      "source": [
        "#smooth()\n",
        "soup=BeautifulSoup('<b>Google</b>')\n",
        "soup.b.append(soup.new_string('param'))\n",
        "print(soup.b.contents)\n",
        "print(soup.b.encode())\n",
        "soup.b.smooth()\n",
        "print(soup.prettify())\n",
        "\n"
      ],
      "metadata": {
        "colab": {
          "base_uri": "https://localhost:8080/"
        },
        "id": "2GvaHgnTAWzq",
        "outputId": "d0c4fa24-2b9c-423d-9848-934a0b989a37"
      },
      "execution_count": null,
      "outputs": [
        {
          "output_type": "stream",
          "name": "stdout",
          "text": [
            "['Google', 'param']\n",
            "b'<b>Googleparam</b>'\n",
            "<html>\n",
            " <body>\n",
            "  <b>\n",
            "   Googleparam\n",
            "  </b>\n",
            " </body>\n",
            "</html>\n",
            "\n"
          ]
        }
      ]
    },
    {
      "cell_type": "markdown",
      "source": [
        "# ** Output**"
      ],
      "metadata": {
        "id": "l7jNLDvfP0La"
      }
    },
    {
      "cell_type": "code",
      "source": [
        "#prettify()\n",
        "#Converts beautifulsoupparse tree to  unicode string\n",
        "#Prints output in fancy formatting\n",
        "\n",
        "soup=BeautifulSoup('<a href=google.com><b>Google</b><i>google.com</i></a>')\n",
        "\n",
        "print(soup)\n",
        "print(\"\\n\\nPrettified::\\n\",soup.prettify())\n",
        "\n"
      ],
      "metadata": {
        "colab": {
          "base_uri": "https://localhost:8080/"
        },
        "id": "erxuP3_EP3LK",
        "outputId": "930bd6f2-7999-441a-c7cf-353ed4521e0d"
      },
      "execution_count": null,
      "outputs": [
        {
          "output_type": "stream",
          "name": "stdout",
          "text": [
            "<html><body><a href=\"google.com\"><b>Google</b><i>google.com</i></a></body></html>\n",
            "\n",
            "\n",
            "Prettified::\n",
            " <html>\n",
            " <body>\n",
            "  <a href=\"google.com\">\n",
            "   <b>\n",
            "    Google\n",
            "   </b>\n",
            "   <i>\n",
            "    google.com\n",
            "   </i>\n",
            "  </a>\n",
            " </body>\n",
            "</html>\n",
            "\n"
          ]
        }
      ]
    },
    {
      "cell_type": "code",
      "source": [
        "#unicode() output formatter\n",
        "\n",
        "#converts html to unicode()\n",
        "\n",
        "from bs4.formatter import HTMLFormatter\n",
        "\n",
        "soup = BeautifulSoup('<a href=\"google.com\">&nbsp:&nbsp google.com</a>')\n",
        "unicode(soup)"
      ],
      "metadata": {
        "colab": {
          "base_uri": "https://localhost:8080/",
          "height": 176
        },
        "id": "4yOESZA_L7tt",
        "outputId": "9ff335ca-448c-40a2-d210-6cca96732a3a"
      },
      "execution_count": null,
      "outputs": [
        {
          "output_type": "error",
          "ename": "NameError",
          "evalue": "name 'unicode' is not defined",
          "traceback": [
            "\u001b[0;31m---------------------------------------------------------------------------\u001b[0m",
            "\u001b[0;31mNameError\u001b[0m                                 Traceback (most recent call last)",
            "\u001b[0;32m<ipython-input-141-a08e1ee54d1d>\u001b[0m in \u001b[0;36m<cell line: 8>\u001b[0;34m()\u001b[0m\n\u001b[1;32m      6\u001b[0m \u001b[0;34m\u001b[0m\u001b[0m\n\u001b[1;32m      7\u001b[0m \u001b[0msoup\u001b[0m \u001b[0;34m=\u001b[0m \u001b[0mBeautifulSoup\u001b[0m\u001b[0;34m(\u001b[0m\u001b[0;34m'<a href=\"google.com\">&nbsp:&nbsp google.com</a>'\u001b[0m\u001b[0;34m)\u001b[0m\u001b[0;34m\u001b[0m\u001b[0;34m\u001b[0m\u001b[0m\n\u001b[0;32m----> 8\u001b[0;31m \u001b[0municode\u001b[0m\u001b[0;34m(\u001b[0m\u001b[0msoup\u001b[0m\u001b[0;34m)\u001b[0m\u001b[0;34m\u001b[0m\u001b[0;34m\u001b[0m\u001b[0m\n\u001b[0m",
            "\u001b[0;31mNameError\u001b[0m: name 'unicode' is not defined"
          ]
        }
      ]
    },
    {
      "cell_type": "code",
      "source": [
        "#formatter()\n",
        "#formats the html with prettify()\n",
        "\n",
        "soup=BeautifulSoup(\"<p>Il a dit &lt;&lt;Sacr&eacute; bleu!&gt;&gt;</p>\")\n",
        "pretty=soup.prettify(formatter='minimal') #formats to minimal\n",
        "print(pretty)\n",
        "\n",
        "print(soup.prettify(formatter='html')) # converts unicode to html\n",
        "print(soup.prettify(formatter='html5'))\n",
        "print(soup.prettify(formatter=None))"
      ],
      "metadata": {
        "colab": {
          "base_uri": "https://localhost:8080/"
        },
        "id": "GG-MEySeUsrn",
        "outputId": "e900f401-7fcb-4e92-e696-b3388b50855b"
      },
      "execution_count": null,
      "outputs": [
        {
          "output_type": "stream",
          "name": "stdout",
          "text": [
            "<html>\n",
            " <body>\n",
            "  <p>\n",
            "   Il a dit &lt;&lt;Sacré bleu!&gt;&gt;\n",
            "  </p>\n",
            " </body>\n",
            "</html>\n",
            "\n",
            "<html>\n",
            " <body>\n",
            "  <p>\n",
            "   Il a dit &lt;&lt;Sacr&eacute; bleu!&gt;&gt;\n",
            "  </p>\n",
            " </body>\n",
            "</html>\n",
            "\n",
            "<html>\n",
            " <body>\n",
            "  <p>\n",
            "   Il a dit &lt;&lt;Sacr&eacute; bleu!&gt;&gt;\n",
            "  </p>\n",
            " </body>\n",
            "</html>\n",
            "\n",
            "<html>\n",
            " <body>\n",
            "  <p>\n",
            "   Il a dit <<Sacré bleu!>>\n",
            "  </p>\n",
            " </body>\n",
            "</html>\n",
            "\n"
          ]
        }
      ]
    },
    {
      "cell_type": "code",
      "source": [
        "from bs4.formatter import HTMLFormatter"
      ],
      "metadata": {
        "id": "RDhXU1TcXGom"
      },
      "execution_count": null,
      "outputs": []
    },
    {
      "cell_type": "code",
      "source": [
        "def uppercase(str):\n",
        "    return str.upper()\n",
        "\n",
        "formatter=HTMLFormatter(uppercase)\n",
        "print(soup.prettify(formatter=formatter))\n"
      ],
      "metadata": {
        "colab": {
          "base_uri": "https://localhost:8080/"
        },
        "id": "I26jE10a45lC",
        "outputId": "fb82b7c9-6467-4b30-83c0-5f08b68e6e4b"
      },
      "execution_count": null,
      "outputs": [
        {
          "output_type": "stream",
          "name": "stdout",
          "text": [
            "<html>\n",
            " <body>\n",
            "  <a href=\"GOOGLE.COM\">\n",
            "   &NBSP:&NBSP GOOGLE.COM\n",
            "  </a>\n",
            " </body>\n",
            "</html>\n",
            "\n"
          ]
        }
      ]
    },
    {
      "cell_type": "code",
      "source": [
        "#CData\n",
        "#extract the data as it is mentioned\n",
        "from bs4 import CData\n",
        "soup=BeautifulSoup(\"<p> First  Program</p>\")\n",
        "\n",
        "soup.p.string=CData('<b>google website</b>')\n",
        "print(soup.p.prettify(formatter='html'))"
      ],
      "metadata": {
        "colab": {
          "base_uri": "https://localhost:8080/"
        },
        "id": "NySilcFx5oks",
        "outputId": "d6ee2284-35a9-4d64-b3fa-e360651cf3d8"
      },
      "execution_count": null,
      "outputs": [
        {
          "output_type": "stream",
          "name": "stdout",
          "text": [
            "<p>\n",
            " <![CDATA[<b>google website</b>]]>\n",
            "</p>\n",
            "\n"
          ]
        }
      ]
    },
    {
      "cell_type": "code",
      "source": [
        "#get_text()\n",
        "#To extract text only\n",
        "\n",
        "soup=BeautifulSoup('<p> First  Program</p><b>  google website</b>')\n",
        "print(soup.get_text()) # get text only\n",
        "print(soup.b.get_text()) # get b text only\n",
        "\n",
        "print(soup.get_text('_')) #string connector\n",
        "print(soup.get_text('*',strip=True))  # removes white spaces"
      ],
      "metadata": {
        "colab": {
          "base_uri": "https://localhost:8080/"
        },
        "id": "XShEi-DBVjFT",
        "outputId": "4af689c0-aaf0-4d09-c4cd-36ffee6f977d"
      },
      "execution_count": null,
      "outputs": [
        {
          "output_type": "stream",
          "name": "stdout",
          "text": [
            " First  Program  google website\n",
            "  google website\n",
            " First  Program_  google website\n",
            "First  Program*google website\n"
          ]
        }
      ]
    },
    {
      "cell_type": "code",
      "source": [
        "!pip install html5lib"
      ],
      "metadata": {
        "colab": {
          "base_uri": "https://localhost:8080/"
        },
        "id": "gME2kRyWYkwo",
        "outputId": "eaec9526-7006-465c-86d2-1c600342c586"
      },
      "execution_count": null,
      "outputs": [
        {
          "output_type": "stream",
          "name": "stdout",
          "text": [
            "Requirement already satisfied: html5lib in /usr/local/lib/python3.10/dist-packages (1.1)\n",
            "Requirement already satisfied: six>=1.9 in /usr/local/lib/python3.10/dist-packages (from html5lib) (1.16.0)\n",
            "Requirement already satisfied: webencodings in /usr/local/lib/python3.10/dist-packages (from html5lib) (0.5.1)\n"
          ]
        }
      ]
    },
    {
      "cell_type": "markdown",
      "source": [],
      "metadata": {
        "id": "mBRJT4m5m5Mw"
      }
    },
    {
      "cell_type": "markdown",
      "source": [
        "#** Parsers**\n",
        "\n",
        "Parsers in BS will helpyou to convert a document. Bydefault BeautifulSoup will dump the praser to BS Constructor.Then it will select suitable parser, if we not mention, bydefault"
      ],
      "metadata": {
        "id": "FdXlJglMm5aZ"
      }
    },
    {
      "cell_type": "code",
      "source": [
        "#Parser\n",
        "\n",
        "soup=BeautifulSoup('<p><b></b>')\n",
        "print(soup)  #Automatically identifies as html parser and completes html page construction\n",
        "\n",
        "soup=BeautifulSoup('<p><b>','html')\n",
        "print(soup) #It takes htmlparseronly because we have mentioned here"
      ],
      "metadata": {
        "colab": {
          "base_uri": "https://localhost:8080/"
        },
        "id": "sk4QdEBciVZv",
        "outputId": "ec630e0b-d1b6-434f-cf79-70d26a5bdd9a"
      },
      "execution_count": null,
      "outputs": [
        {
          "output_type": "stream",
          "name": "stdout",
          "text": [
            "<html><body><p><b></b></p></body></html>\n",
            "<html><body><p><b></b></p></body></html>\n"
          ]
        }
      ]
    },
    {
      "cell_type": "markdown",
      "source": [],
      "metadata": {
        "id": "Zr8EQLK9ol9A"
      }
    },
    {
      "cell_type": "markdown",
      "source": [
        "# ** Unicode-8**\n",
        "\n",
        "Converts any coding to unicode UTF-8 format. Unicode Transformation Format -8 format"
      ],
      "metadata": {
        "id": "TxXbjAeAomhR"
      }
    },
    {
      "cell_type": "code",
      "source": [
        "#Original_encoding\n",
        "\n",
        "soup=BeautifulSoup(b\"<h1>\\xed\\xe5\\xec\\xf9</h1>\")\n",
        "print(soup.original_encoding)\n",
        "\n",
        "#from_encoding\n",
        "\n",
        "soup=BeautifulSoup(b\"<h1>\\xed\\xe5\\xec\\xf9</h1>\",from_encoding='ISO-8859-7')\n",
        "print(soup.original_encoding)\n",
        "\n",
        "#exclude encoding\n",
        "\n",
        "soup=BeautifulSoup(b\"<h1>\\xed\\xe5\\xec\\xf9</h1>\",exclude_encodings=['ISO-8859-7'])\n",
        "print(soup.original_encoding)\n",
        "\n"
      ],
      "metadata": {
        "colab": {
          "base_uri": "https://localhost:8080/"
        },
        "id": "6eE9lmIiniar",
        "outputId": "9ba6a11c-940b-4e3c-e286-95e402800a5d"
      },
      "execution_count": null,
      "outputs": [
        {
          "output_type": "stream",
          "name": "stdout",
          "text": [
            "ISO-8859-7\n",
            "ISO-8859-7\n",
            "windows-1252\n"
          ]
        }
      ]
    },
    {
      "cell_type": "code",
      "source": [
        "#output encoding\n",
        "\n",
        "soup = BeautifulSoup('<html>  <head>   <meta content=\"text/html; charset=ISO-Latin-1\" http-equiv=\"Content-type\" />  </head>   <body>   <p>Sacré bleu!</p>  </body> </html>', 'html.parser')\n",
        "print(soup.prettify())   #by default BS will convert any format to UTF-8 format\n",
        "\n",
        "print(soup.prettify('latin-1'))   #to stop auto conversion we need to specify format here\n",
        "\n"
      ],
      "metadata": {
        "colab": {
          "base_uri": "https://localhost:8080/"
        },
        "id": "0GANXVxEpFRL",
        "outputId": "34770b3b-7946-43ee-e0b4-db64f539239a"
      },
      "execution_count": null,
      "outputs": [
        {
          "output_type": "stream",
          "name": "stdout",
          "text": [
            "<html>\n",
            " <head>\n",
            "  <meta content=\"text/html; charset=utf-8\" http-equiv=\"Content-type\"/>\n",
            " </head>\n",
            " <body>\n",
            "  <p>\n",
            "   Sacré bleu!\n",
            "  </p>\n",
            " </body>\n",
            "</html>\n",
            "\n",
            "b'<html>\\n <head>\\n  <meta content=\"text/html; charset=latin-1\" http-equiv=\"Content-type\"/>\\n </head>\\n <body>\\n  <p>\\n   Sacr\\xe9 bleu!\\n  </p>\\n </body>\\n</html>\\n'\n"
          ]
        }
      ]
    },
    {
      "cell_type": "code",
      "source": [
        "#encoding using Unicode,Dammit  without BeautifulSoup\n",
        "\n",
        "from bs4 import UnicodeDammit\n",
        "damit=UnicodeDammit(\"Sacr\\xc3\\xa9 bleu!\")\n",
        "print(damit.unicode_markup)\n",
        "print(damit.original_encoding)\n",
        "\n"
      ],
      "metadata": {
        "colab": {
          "base_uri": "https://localhost:8080/"
        },
        "id": "2Z4MA9_ktCU0",
        "outputId": "0e7efb96-1272-4557-818c-36977f970697"
      },
      "execution_count": null,
      "outputs": [
        {
          "output_type": "stream",
          "name": "stdout",
          "text": [
            "SacrÃ© bleu!\n",
            "None\n"
          ]
        }
      ]
    },
    {
      "cell_type": "code",
      "source": [
        "#Smart quotes html,xml\n",
        "\n",
        "markup = b\"<p>I just \\x93love\\x94 Microsoft Word\\x92s smart quotes</p>\"\n",
        "\n",
        "print(UnicodeDammit(markup, [\"windows-1252\"], smart_quotes_to=\"html\").unicode_markup)\n",
        "\n",
        "print(UnicodeDammit(markup, [\"windows-1252\"], smart_quotes_to=\"xml\").unicode_markup)\n"
      ],
      "metadata": {
        "colab": {
          "base_uri": "https://localhost:8080/"
        },
        "id": "2OnNNRDtv9mb",
        "outputId": "8b26c176-a730-4aef-e9d0-dbfe3b72f012"
      },
      "execution_count": null,
      "outputs": [
        {
          "output_type": "stream",
          "name": "stdout",
          "text": [
            "<p>I just &ldquo;love&rdquo; Microsoft Word&rsquo;s smart quotes</p>\n",
            "<p>I just &#x201C;love&#x201D; Microsoft Word&#x2019;s smart quotes</p>\n"
          ]
        }
      ]
    },
    {
      "cell_type": "code",
      "source": [
        "#Inconsuistent encoding\n",
        "#UnicodeDammit.detwingle()\n",
        "# toconvert to pure UTF-8 encoding\n",
        "\n",
        "encode1 = (u\"\\N{SNOWMAN}\" * 3)\n",
        "encode2 = (u\"\\N{LEFT DOUBLE QUOTATION MARK}I like snowmen!\\N{RIGHT DOUBLE QUOTATION MARK}\")\n",
        "doc = encode1.encode(\"utf8\") + encode2.encode(\"windows_1252\")\n",
        "\n",
        "print(UnicodeDammit.detwingle(doc))  #converts topure UTF-8"
      ],
      "metadata": {
        "colab": {
          "base_uri": "https://localhost:8080/"
        },
        "id": "1Sp3oHJmwzFs",
        "outputId": "3ffb2977-b779-4ab2-a712-f0c694973beb"
      },
      "execution_count": null,
      "outputs": [
        {
          "output_type": "stream",
          "name": "stdout",
          "text": [
            "b'\\xe2\\x98\\x83\\xe2\\x98\\x83\\xe2\\x98\\x83\\xe2\\x80\\x9cI like snowmen!\\xe2\\x80\\x9d'\n"
          ]
        }
      ]
    },
    {
      "cell_type": "markdown",
      "source": [],
      "metadata": {
        "id": "4xZBQa2eyN3e"
      }
    },
    {
      "cell_type": "markdown",
      "source": [
        "# **Line Numbers**"
      ],
      "metadata": {
        "id": "2n8niCkoyOTw"
      }
    },
    {
      "cell_type": "code",
      "source": [
        "soup=BeautifulSoup(\"<p\\n>Paragraph 1</p>\\n    <p>Paragraph 2</p>\",'html.parser')\n",
        "\n",
        "for tag in soup.find_all():\n",
        "    print(tag.sourceline,tag.sourcepos,tag.string)\n",
        "\n",
        "print()\n",
        "print()\n",
        "soup=BeautifulSoup(\"<p\\n>Paragraph 1</p>\\n    <p>Paragraph 2</p>\",'html5lib')\n",
        "for tag in soup.find_all():\n",
        "    print(tag.sourceline,tag.sourcepos,tag.string)\n",
        "\n",
        "print()\n",
        "print()\n",
        "soup=BeautifulSoup(\"<p\\n>Paragraph 1</p>\\n    <p>Paragraph 2</p>\",'html5lib',store_line_numbers=False)\n",
        "for tag in soup.find_all():\n",
        "    print(tag.sourceline,tag.sourcepos,tag.string)"
      ],
      "metadata": {
        "colab": {
          "base_uri": "https://localhost:8080/"
        },
        "id": "7kOJ36rFxpnk",
        "outputId": "4852dd84-3ac5-492e-d0b9-9cab416b3594"
      },
      "execution_count": null,
      "outputs": [
        {
          "output_type": "stream",
          "name": "stdout",
          "text": [
            "1 0 Paragraph 1\n",
            "3 4 Paragraph 2\n",
            "\n",
            "\n",
            "2 0 None\n",
            "2 0 None\n",
            "2 0 None\n",
            "2 0 Paragraph 1\n",
            "3 6 Paragraph 2\n",
            "\n",
            "\n",
            "None None None\n",
            "None None None\n",
            "None None None\n",
            "None None Paragraph 1\n",
            "None None Paragraph 2\n"
          ]
        }
      ]
    },
    {
      "cell_type": "markdown",
      "source": [
        "# **Comparing Objects**"
      ],
      "metadata": {
        "id": "oz7Ml1oqz-GB"
      }
    },
    {
      "cell_type": "code",
      "source": [
        "soup1=\"<p>I want <b>pizza</b> and more <b>pizza</b>!</p>\"\n",
        "tag=BeautifulSoup(soup1,'html.parser')\n",
        "\n",
        "fst,sec=tag.find_all('b')\n",
        "print (fst == sec)\n",
        "print(fst is  sec)"
      ],
      "metadata": {
        "colab": {
          "base_uri": "https://localhost:8080/"
        },
        "id": "3QpVF-gSyvcf",
        "outputId": "1b472933-3394-4586-d622-350b26f0ed89"
      },
      "execution_count": null,
      "outputs": [
        {
          "output_type": "stream",
          "name": "stdout",
          "text": [
            "True\n",
            "False\n"
          ]
        }
      ]
    },
    {
      "cell_type": "code",
      "source": [],
      "metadata": {
        "id": "dfZplUaO0c9q"
      },
      "execution_count": null,
      "outputs": []
    },
    {
      "cell_type": "markdown",
      "source": [
        "# **Copying Objects**"
      ],
      "metadata": {
        "id": "1COKZ3z711hS"
      }
    },
    {
      "cell_type": "code",
      "source": [
        "import copy\n",
        "\n",
        "soup=BeautifulSoup(\"<p>I want <b>pizza</b> and more <b>pizza</b>!</p>\")\n",
        "p_copy=copy.copy(soup.p)\n",
        "print(p_copy ==soup.p)\n",
        "\n",
        "p_copy is copy.copy(soup)\n",
        "print(p_copy is soup.p)"
      ],
      "metadata": {
        "colab": {
          "base_uri": "https://localhost:8080/"
        },
        "id": "mE1pvW_m15nV",
        "outputId": "b60aeca9-0358-4a22-e4f9-36a6b8245268"
      },
      "execution_count": null,
      "outputs": [
        {
          "output_type": "stream",
          "name": "stdout",
          "text": [
            "True\n",
            "False\n"
          ]
        }
      ]
    },
    {
      "cell_type": "code",
      "source": [
        "#SoupStrainer()\n",
        "\n",
        "#Used toselect the part of the document to strain\n",
        "\n",
        "from bs4 import SoupStrainer,BeautifulSoup\n",
        "\n",
        "soup=BeautifulSoup(\"<p>I want <b>pizza</b> and more <b>pizza</b>!</p>\")\n",
        "tag=SoupStrainer('b')\n",
        "print(tag)\n",
        "\n",
        "\n"
      ],
      "metadata": {
        "id": "Q7-3Sibp2TR-",
        "colab": {
          "base_uri": "https://localhost:8080/"
        },
        "outputId": "3e981f50-b8cb-4533-beaa-9040a0791da9"
      },
      "execution_count": null,
      "outputs": [
        {
          "output_type": "stream",
          "name": "stdout",
          "text": [
            "b|{}\n"
          ]
        }
      ]
    },
    {
      "cell_type": "code",
      "source": [
        "#diagnose()\n",
        "\n",
        "from bs4.diagnose import diagnose\n",
        "\n",
        "diagnose('html.doc')"
      ],
      "metadata": {
        "colab": {
          "base_uri": "https://localhost:8080/"
        },
        "id": "FvF5iigv8SQr",
        "outputId": "4baeeacf-9838-4d80-fdf4-4378dcfc448b"
      },
      "execution_count": null,
      "outputs": [
        {
          "output_type": "stream",
          "name": "stdout",
          "text": [
            "Diagnostic running on Beautiful Soup 4.12.3\n",
            "Python version 3.10.12 (main, Nov 20 2023, 15:14:05) [GCC 11.4.0]\n",
            "Found lxml version 4.9.4.0\n",
            "Found html5lib version 1.1\n",
            "Trying to parse your markup with html.parser\n",
            "Here's what html.parser did with the markup:\n",
            "html.doc\n",
            "\n",
            "--------------------------------------------------------------------------------\n",
            "Trying to parse your markup with html5lib\n",
            "Here's what html5lib did with the markup:\n",
            "<html>\n",
            " <head>\n",
            " </head>\n",
            " <body>\n",
            "  html.doc\n",
            " </body>\n",
            "</html>\n",
            "\n",
            "--------------------------------------------------------------------------------\n",
            "Trying to parse your markup with lxml\n",
            "Here's what lxml did with the markup:\n",
            "<html>\n",
            " <body>\n",
            "  <p>\n",
            "   html.doc\n",
            "  </p>\n",
            " </body>\n",
            "</html>\n",
            "\n",
            "--------------------------------------------------------------------------------\n",
            "Trying to parse your markup with lxml-xml\n",
            "Here's what lxml-xml did with the markup:\n",
            "<?xml version=\"1.0\" encoding=\"utf-8\"?>\n",
            "\n",
            "--------------------------------------------------------------------------------\n"
          ]
        }
      ]
    },
    {
      "cell_type": "code",
      "source": [],
      "metadata": {
        "id": "i1BTTXzI_TL2"
      },
      "execution_count": null,
      "outputs": []
    }
  ]
}